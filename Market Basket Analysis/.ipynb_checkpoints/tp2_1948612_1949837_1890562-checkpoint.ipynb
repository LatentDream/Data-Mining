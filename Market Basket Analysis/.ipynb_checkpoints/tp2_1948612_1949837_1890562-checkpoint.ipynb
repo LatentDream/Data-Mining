{
 "cells": [
  {
   "cell_type": "markdown",
   "metadata": {
    "id": "4mh2MiuVMazk"
   },
   "source": [
    "# TP2 - Market Basket Analysis \n",
    "INF8111 - Fouille de données, Summer 2020\n",
    "### Membres de l'équipe\n",
    "    - Guillaume Thibault 1948612\n",
    "    - Marie-Eve Patron 1890562\n",
    "    - Julien Witty     1949837\n",
    "\n",
    "\n",
    "## Date et directives de remise\n",
    "Vous remettrez ce fichier nommé dans la boîte de remise sur moodle. \n",
    "\n",
    "\n",
    "## Market Basket Analysis\n",
    "\n",
    "Le *Market Basket Analysis* (MBA) est une technique d'analyse de la fouille de données qui permet de découvrir les associations entre les produits ou leur regroupement. En explorant des motifs intéressants à partir d'une vaste collection de données, le MBA vise à comprendre / révéler les comportements d'achat des clients en se basant sur la théorie selon laquelle si vous avez acheté un certain ensemble de produits, vous êtes plus (ou moins) susceptible d'acheter un autre groupe de produits. En d'autres termes, le MBA permet aux détaillants d'identifier la relation entre les articles que les clients achètent, révélant des tendances d'articles souvent achetés ensemble.\n",
    "\n",
    "Une approche largement utilisée pour explorer ces motifs consiste à construire *** des règles d'association *** telles que\n",
    "- **si** acheté *ITEM_1* **alors** achètera *ITEM_2* avec **confiance** *X*.\n",
    "\n",
    "Ces associations n'ont pas à être des règles individuelles. Ils peuvent impliquer de nombreux éléments. Par exemple, une personne dans un supermarché peut ajouter des œufs dans son panier, puis le MBA peut suggérer qu'elle achètera également du pain et/ou de la farine:\n",
    "\n",
    "+ **si**  acheté *OEUFS* **alors** achètera [*PAIN* avec confiance *0,2*; *FARINE* avec confiance 0,05].\n",
    "\n",
    "Cependant, si la personne décide maintenant d'ajouter de la farine à son panier, la nouvelle règle d'association pourrait être comme ci-dessous, suggérant des ingrédients pour faire un gâteau.\n",
    "\n",
    "+ **si** acheté [*OEUFS, FARINE*] **alors** achètera [*SUCRE* avec confiance 0,45; LEVURE avec confiance 0,12; *PAIN* avec confiance *0,03*].\n",
    "\n",
    "Il existe de nombreux scénarios réels où le MBA joue un rôle central dans l'analyse des données, comme les transactions de supermarché, les commandes en ligne ou l'historique des cartes de crédit. Les spécialistes du marketing peuvent utiliser ces règles d'association pour organiser les produits corrélés plus près les uns des autres sur les étagères des magasins ou faire des suggestions en ligne afin que les clients achètent plus d'articles. Un MBA peut généralement aider les détaillants à répondre aux questions les suivantes:\n",
    "\n",
    "- Quels articles sont souvent achetés ensemble ?\n",
    "- Étant donné un panier, quels articles suggérer ?\n",
    "- Comment placer les articles ensemble sur les étagères ?\n",
    "\n",
    "### Objectif\n",
    "\n",
    "Votre objectif dans ce TP est de développer un algorithme MBA pour révéler les motifs en créant des règles d'association dans un ensemble de données volumineux avec plus de trois millions de transactions de supermarché. Cependant, la collecte de règles d'association dans les grands ensembles de données est un problème très intensif en calcul, ce qui rend presque impossible leur exécution sans système distribué. Par conséquent, pour exécuter votre algorithme, vous aurez accès à un cluster de *cloud computing* distribué avec des centaines de cœurs.\n",
    "\n",
    "À cette fin, un algorithme **MapReduce** sera implémenté avec le framework [Apache Spark](http://spark.apache.org), un système informatique distribué rapide. En résumé, Spark est un framework open source conçu avec une méthodologie *scale-out* qui en fait un outil très puissant pour les programmeurs ou les développeurs d'applications pour effectuer un volume massif de calculs et de traitement de données dans des environnements distribués. Spark fournit des API de haut niveau qui facilitent la création d'applications parallèles sans avoir à se soucier de la façon dont votre code et vos données sont parallélisés / distribués par le cluster informatique. Spark fait tout pour vous.\n",
    "\n",
    "La mise en œuvre suivra l'algorithme d'analyse du panier de marché présenté par Jongwook Woo et Yuhang Xu (2012). L'image **workflow.pdf** illustre le flux de travail de l'algorithme et doit être utilisée pour consultation tout au long de ce TP. Les cases bleues sont celles où vous devez implémenter une méthode pour effectuer une fonction de mappage ou de réduction, et les cases grises représentent leur sortie attendue. **Toutes ces opérations sont expliquées en détail dans les sections suivantes.**\n",
    "\n",
    "## 1. Configuration de Spark\n",
    "\n",
    "Spark fonctionne sur les systèmes Windows et UNIX (par exemple, Linux, Mac OS). Il est facile d'exécuter Spark localement sur une seule machine - tout ce dont vous avez besoin est d'avoir Java installé sur votre système PATH, ou la variable d'environnement JAVA_HOME pointant vers une installation Java. Il est obligatoire que le **JDK v8/11** soit installé sur votre système, car Spark ne prend actuellement en charge que cette version. Si ce n'est pas le cas, accédez à [la page Web de Java](https://www.oracle.com/java/technologies/javase-downloads.html) pour télécharger et installer une machine virtuelle Java. N'oubliez pas de définir la variable d'environnement JAVA_HOME pour utiliser JDK v8/11 si votre installation ne le fait pas automatiquement.\n",
    "\n",
    "L'interface entre Python et Spark se fait via **PySpark**, qui peut être installé en exécutant `pip install pyspark` ou configuré en suivant la séquence ci-dessous:\n",
    "\n",
    "1. D'abord, allez sur http://spark.apache.org/downloads\n",
    "2. Sélectionnez la dernière version de Spark et le package pré-construit pour Apache Hadoop 2.7\n",
    "3. Cliquez pour télécharger **spark-3.1.1-bin-hadoop2.7.tgz** et décompressez-le dans le dossier de votre choix.\n",
    "4. Ensuite, exportez les variables suivantes pour lier PYSPARK (l'interface python de Spark) à votre distribution python dans votre fichier `~/.bash_profile`.\n",
    "\n",
    "``\n",
    "export SPARK_HOME=/chemin/vers/spark-3.1.1-bin-hadoop2.7\n",
    "export PYTHONPATH=\"$SPARK_HOME/python:$SPARK_HOME/python/lib/py4j-0.10.7-src.zip:$SPARK_HOME/python/lib/pyspark.zip:$PYTHONPATH\"\n",
    "export PYSPARK_PYTHON=/chemin/vers/votre/python3\n",
    "``\n",
    "\n",
    "5. Exécutez `source ~./bash_profile` pour effectuer les modifications et redémarrer cette session de notebook jupyter.\n"
   ]
  },
  {
   "cell_type": "code",
   "execution_count": 1,
   "metadata": {
    "id": "JmUMt4htMazm"
   },
   "outputs": [
    {
     "name": "stdout",
     "output_type": "stream",
     "text": [
      "['C:\\\\Users\\\\Julie\\\\anaconda3\\\\python36.zip', 'C:\\\\Users\\\\Julie\\\\anaconda3\\\\DLLs', 'C:\\\\Users\\\\Julie\\\\anaconda3\\\\lib', 'C:\\\\Users\\\\Julie\\\\anaconda3', '', 'C:\\\\Users\\\\Julie\\\\anaconda3\\\\lib\\\\site-packages', 'C:\\\\Users\\\\Julie\\\\anaconda3\\\\lib\\\\site-packages\\\\win32', 'C:\\\\Users\\\\Julie\\\\anaconda3\\\\lib\\\\site-packages\\\\win32\\\\lib', 'C:\\\\Users\\\\Julie\\\\anaconda3\\\\lib\\\\site-packages\\\\Pythonwin', 'C:\\\\Users\\\\Julie\\\\anaconda3\\\\lib\\\\site-packages\\\\IPython\\\\extensions', 'C:\\\\Users\\\\Julie\\\\.ipython']\n",
      "C:\\Users\\Julie\\anaconda3\\python.exe\n"
     ]
    }
   ],
   "source": [
    "import os\n",
    "import sys\n",
    "from time import time\n",
    "\n",
    "print(sys.path)\n",
    "print(sys.executable)\n",
    "#os.environ['PYSPARK_PYTHON'] = sys.executable\n",
    "#os.environ['PYSPARK_DRIVER_PYTHON'] = sys.executable\n",
    "# !a\"pt-get install openjdk-11-jdk-headless -qq > /dev/null\"\n",
    "# os.environ[\"JAVA_HOME\"] = \"/usr/lib/jvm/java-11-openjdk-amd64\"\n",
    "# !pip install pyspark"
   ]
  },
  {
   "cell_type": "markdown",
   "metadata": {
    "id": "rovSCW_vYs7m"
   },
   "source": [
    "#### Testez votre Spark\n",
    "À l'aide du code suivant, vous pouvez tester si Spark est installé correctement."
   ]
  },
  {
   "cell_type": "code",
   "execution_count": 2,
   "metadata": {
    "id": "UxgNiBFkYs7n"
   },
   "outputs": [
    {
     "name": "stdout",
     "output_type": "stream",
     "text": [
      "+-----+\n",
      "|hello|\n",
      "+-----+\n",
      "|spark|\n",
      "+-----+\n",
      "\n"
     ]
    }
   ],
   "source": [
    "import pyspark\n",
    "from pyspark.sql import SparkSession\n",
    "spark = SparkSession.builder.getOrCreate()\n",
    "df = spark.sql(\"select 'spark' as hello \")\n",
    "df.show()"
   ]
  },
  {
   "cell_type": "markdown",
   "metadata": {
    "id": "QaYpUpOFMazu"
   },
   "source": [
    "### 1.1 Exemple de comptage de produits \n",
    "\n",
    "Pour tester votre installation et commencer à vous familiariser avec Spark, nous suivrons un exemple qui compte combien de fois les produits d'un toy dataset ont été achetés.\n",
    "\n",
    "Le principal point d'entrée pour commencer la programmation avec Spark est [l'API RDD](https://spark.apache.org/docs/3.1.1/api/python/reference/pyspark.html#rdd-apis), une excellente abstraction Spark pour travailler avec MapReduce. RDD est une collection d'éléments partitionnés sur les nœuds du cluster qui peuvent fonctionner en parallèle. En d'autres termes, RDD est la façon dont Spark maintient vos données prêtes à exécuter une fonction (par exemple, une fonction Map ou une fonction reduce) en parallèle. **Ne vous inquiétez pas si cela semble toujours déroutant, il sera clair une fois que vous commencerez à l'implémenter**. Cependant, cela fait partie de ce TP d'étudier / consulter [Spark python API](https://spark.apache.org/docs/latest/api/python/) et d'apprendre à l'utiliser. Certaines fonctions utiles offertes par l'API RDD sont:\n",
    "\n",
    "1. **map**: return a new RDD by applying a function to each element of this RDD.\n",
    "2. **flatMap**: return a new RDD by first applying a function to all elements of this RDD, and then flattening the results. **Should be used when each entry will yield more than one mapped element**\n",
    "3. **reduce**: reduces the elements of this RDD using the specified commutative and associative binary operator.\n",
    "4. **reduceByKey**: merge the values for each key using an associative and commutative reduce function\n",
    "5. **groupByKey**: group the values for each key in the RDD into a single sequence\n",
    "6. **collect**: return a list that contains all of the elements in this RDD. **Should not be used when working with a lot of data**\n",
    "7. **sample**: return a sampled subset of this RDD\n",
    "8. **count**: return the number of elements in this RDD.\n",
    "9. **filter**: return a new RDD containing only the elements that satisfy a predicate."
   ]
  },
  {
   "cell_type": "code",
   "execution_count": 9,
   "metadata": {
    "id": "NZDz1nrBMazu"
   },
   "outputs": [
    {
     "name": "stdout",
     "output_type": "stream",
     "text": [
      "Toy dataset\n",
      "+--------+-----------+\n",
      "|order_id|transaction|\n",
      "+--------+-----------+\n",
      "|       1|    a;b;c;f|\n",
      "|       2|    d;b;a;e|\n",
      "|       3|        c;b|\n",
      "|       4|        b;c|\n",
      "+--------+-----------+\n",
      "\n",
      "Toy dataframe as a RDD object (list of Row objects):\n",
      "\t [Row(order_id='1', transaction='a;b;c;f'), Row(order_id='2', transaction='d;b;a;e'), Row(order_id='3', transaction='c;b'), Row(order_id='4', transaction='b;c')]\n",
      "\n",
      "Mapped products:\n",
      "\t [('a', 1), ('b', 1), ('c', 1), ('f', 1), ('d', 1), ('b', 1), ('a', 1), ('e', 1), ('c', 1), ('b', 1), ('b', 1), ('c', 1)]\n",
      "\n",
      "Reduced (merged) products:\n",
      "\t [('a', 2), ('b', 4), ('c', 3), ('f', 1), ('d', 1), ('e', 1)]\n",
      "\n",
      "Visualizing as a dataframe:\n",
      "+-------+-------------+\n",
      "|product|count_product|\n",
      "+-------+-------------+\n",
      "|      a|            2|\n",
      "|      b|            4|\n",
      "|      c|            3|\n",
      "|      f|            1|\n",
      "|      d|            1|\n",
      "|      e|            1|\n",
      "+-------+-------------+\n",
      "\n",
      "Total time: 13.535994529724121 seconds\n"
     ]
    }
   ],
   "source": [
    "from pyspark.sql import SparkSession\n",
    "start = time()\n",
    "def map_to_product(row):\n",
    "    \"\"\"\n",
    "    Map each transaction into a set of KEY-VALUE elements.\n",
    "    The KEY is the word (product) itself and the VALUE is its number of apparitions.\n",
    "    \"\"\"\n",
    "    products = row.transaction.split(';') # split products from the column transaction\n",
    "    for p in products:\n",
    "        yield (p, 1)\n",
    "\n",
    "def reduce_product_by_key(value1, value2):\n",
    "    \"Reduce the mapped objects to unique words by merging (summing ) their values\"\n",
    "    return value1+value2\n",
    "\n",
    "# Initializates a object of SparkSession class, main entry point to Spark's funcionalites\n",
    "spark = SparkSession.builder.getOrCreate()\n",
    "        \n",
    "# Read a toy dataset\n",
    "toy = spark.read.option('encoding', 'ISO-8859-1').csv('s3://fouillededonnee/toy.csv', header=True)\n",
    "print(\"Toy dataset\")\n",
    "toy.show()\n",
    "\n",
    "# Obtain a RDD object to call a map function\n",
    "toy_rdd = toy.rdd\n",
    "print(\"Toy dataframe as a RDD object (list of Row objects):\\n\\t\", toy_rdd.collect())\n",
    "\n",
    "# Map function to identify all products\n",
    "\n",
    "toy_rdd = toy_rdd.flatMap(map_to_product)\n",
    "list_toy = toy_rdd.collect()\n",
    "print(\"\\nMapped products:\\n\\t\", list_toy)\n",
    "\n",
    "# Reduce function to merge values of elements that share the same KEY\n",
    "toy_rdd = toy_rdd.reduceByKey(reduce_product_by_key)\n",
    "print(\"\\nReduced (merged) products:\\n\\t\", toy_rdd.collect())\n",
    "\n",
    "print(\"\\nVisualizing as a dataframe:\")\n",
    "toy_rdd.toDF([\"product\", \"count_product\"]).show()\n",
    "print(f\"Total time: {time() - start} seconds\")"
   ]
  },
  {
   "cell_type": "markdown",
   "metadata": {
    "id": "PpJGQmzXMazz"
   },
   "source": [
    "### 1.2 Travailler avec Spark Dataframe\n",
    "\n",
    "Dans l'exemple ci-dessus, nous avons brièvement utilisé une classe Dataframe de Spark, mais uniquement pour obtenir un objet RDD avec ``toy.rdd`` et pour aficher les données sous forme de tableau structuré avec le ``show ()`` une fonction. Cependant, [Dataframe](https://spark.apache.org/docs/latest/api/python/pyspark.sql.html#) est une partie cruciale de la version actuelle de Spark et est construit sur l'API RDD. Il s'agit d'une collection distribuée de lignes sous des colonnes nommées, identique à une table dans une base de données relationnelle. Le Dataframe de Spark fonctionne de la même manière que [Pandas](https://pandas.pydata.org/pandas-docs/stable/reference/api/pandas.DataFrame.html). En fait, nous pouvons exporter (obtenir) une Dataframe Spark vers (à partir de) ​​une Dataframe pandas avec la fonction ``toPandas()``  (``spark.createDataFrame``).\n",
    "\n",
    "Une fonctionnalité centrale du Dataframe est de bénéficier du [Spark SQL](https://spark.apache.org/docs/latest/sql-programming-guide.html#sql), un module qui permet des requêtes SQL sur des données structurées. Par exemple, le même « exemple de comptage de produits » aurait pu être implémenté comme une séquence d'opérations SQL sur les données:"
   ]
  },
  {
   "cell_type": "code",
   "execution_count": 10,
   "metadata": {
    "id": "oFL6BuIDMaz0"
   },
   "outputs": [
    {
     "name": "stdout",
     "output_type": "stream",
     "text": [
      "New column 'products': exploding the transaction's products to a new row\n",
      "+--------+-----------+--------+\n",
      "|order_id|transaction|products|\n",
      "+--------+-----------+--------+\n",
      "|       1|    a;b;c;f|       a|\n",
      "|       1|    a;b;c;f|       b|\n",
      "|       1|    a;b;c;f|       c|\n",
      "|       1|    a;b;c;f|       f|\n",
      "|       2|    d;b;a;e|       d|\n",
      "|       2|    d;b;a;e|       b|\n",
      "|       2|    d;b;a;e|       a|\n",
      "|       2|    d;b;a;e|       e|\n",
      "|       3|        c;b|       c|\n",
      "|       3|        c;b|       b|\n",
      "|       4|        b;c|       b|\n",
      "|       4|        b;c|       c|\n",
      "+--------+-----------+--------+\n",
      "\n",
      "Couting unique products:\n",
      "+--------+-------------+\n",
      "|products|count_product|\n",
      "+--------+-------------+\n",
      "|       b|            4|\n",
      "|       c|            3|\n",
      "|       a|            2|\n",
      "|       e|            1|\n",
      "|       f|            1|\n",
      "|       d|            1|\n",
      "+--------+-------------+\n",
      "\n",
      "Total time: 4.954637765884399 seconds\n"
     ]
    }
   ],
   "source": [
    "import pyspark.sql.functions as f\n",
    "start = time()\n",
    "\n",
    "# Creates a new column, products, with all products appering in each transaction\n",
    "print('New column \\'products\\': exploding the transaction\\'s products to a new row')\n",
    "df_toy = toy.withColumn('products', f.explode(f.split(toy.transaction, ';')))\n",
    "df_toy.show()\n",
    "\n",
    "# Performs a select query and group rows by the product name, aggreagating by counting\n",
    "print('Couting unique products:')\n",
    "df_toy.select(df_toy.products)\\\n",
    "      .groupBy(df_toy.products)\\\n",
    "      .agg(f.count('products').alias('count_product'))\\\n",
    "      .sort('count_product', ascending=False)\\\n",
    "      .show()\n",
    "print(f\"Total time: {time() - start} seconds\")"
   ]
  },
  {
   "cell_type": "markdown",
   "metadata": {
    "id": "W4HFs8CVMaz3"
   },
   "source": [
    "En outre, les mêmes opérations SQL effectuées ci-dessus auraient pu être effectuées avec une requête en langage SQL traditionnel comme indiqué ci-dessous:"
   ]
  },
  {
   "cell_type": "code",
   "execution_count": 11,
   "metadata": {
    "id": "O_eYl-7tMaz3"
   },
   "outputs": [
    {
     "name": "stdout",
     "output_type": "stream",
     "text": [
      "+--------+-------------+\n",
      "|products|product_count|\n",
      "+--------+-------------+\n",
      "|       b|            4|\n",
      "|       c|            3|\n",
      "|       a|            2|\n",
      "|       f|            1|\n",
      "|       e|            1|\n",
      "|       d|            1|\n",
      "+--------+-------------+\n",
      "\n",
      "Total time: 1.7872569561004639 seconds\n"
     ]
    }
   ],
   "source": [
    "# Creates a relational table TOY in the Spark session\n",
    "start = time()\n",
    "\n",
    "df_toy.createOrReplaceTempView(\"TOY\")\n",
    "\n",
    "spark.sql(\"SELECT t.products, COUNT(t.products) AS product_count\"\n",
    "          \" FROM TOY t\"\n",
    "          \" GROUP BY t.products\"\n",
    "          \" ORDER BY product_count DESC\").show()\n",
    "print(f\"Total time: {time() - start} seconds\")"
   ]
  },
  {
   "cell_type": "markdown",
   "metadata": {
    "id": "T0Onr2NxMaz8"
   },
   "source": [
    "Ces concepts SQL sont mentionnés ici car ils nous seront utiles lors du TP, principalement dans la section 3, pour manipuler les données du supermarché, qui sont structurées en tableaux. Ainsi, si vous n'êtes pas familier avec SQL, il est recommandé de suivre un [tutoriel](https://www.w3schools.com/sql/) pour comprendre les bases.\n",
    "\n",
    "## 2. Algorithme MBA\n",
    "Les sections suivantes expliquent comment développer chaque étape de l'algorithme MapReduce pour notre application de supermarché. La figure workflow.pdf illustre chaque étape de l'algorithme.\n",
    "\n",
    "### 2.1 Map to Patterns (10 points)\n",
    "Pour un sous-ensemble de transactions (c'est-à-dire les lignes de notre toy dataset), chaque transaction doit être **mappée** vers un ensemble de *motifs d'achat* trouvés dans la transaction. Formellement, ces motifs sont des sous-ensembles de produits qui représentent un groupe d'articles achetés ensemble. \n",
    "\n",
    "Pour le framework MapReduce, chaque motif doit être créé comme un élément *KEY-VALUE*, où la KEY peut prendre la forme d'un singleton, d'une paire ou d'un trio de produits présents dans la transaction. Plus précisément, pour chaque transaction, la fonction de mappage doit générer tous les sous-ensembles **UNIQUE** possibles de taille **UN, DEUX ou TROIS**. La VALEUR associée à chaque KEY est le nombre de fois que la KEY est apparue dans la transaction (si nous supposons qu'aucun produit n'apparaît plus d'une fois dans la transaction, cette valeur est toujours égale à un).\n",
    "\n",
    "Maintenant, implémentez la fonction **map_to_patterns** qui reçoit une transaction (une ligne du dataset) et retourne les motifs trouvés dans la transaction. Les éléments mappés sont un tuple (KEY, VALUE), où KEY est également un tuple de noms de produits. Il est crucial de noter que, puisque chaque entrée (transaction) de la fonction MAP produira **plus** un élément KEY-VALUE, un *flatMap* doit être invoqué pour cette étape.\n",
    "\n",
    "Pour le toy dataset, la sortie attendue est similaire à:\n",
    "\n",
    "\n",
    "<pre style=\"align:center; border:1px solid black;font-size: 8pt; line-height: 1.1; height: auto; width: 20em; padding-left:1px\">\n",
    "<code>\n",
    "+---------------+-----------+\n",
    "|       patterns|occurrences|\n",
    "+---------------+-----------+\n",
    "|         ('a',)|          1|\n",
    "|     ('a', 'b')|          1|\n",
    "|('a', 'b', 'c')|          1|\n",
    "|('a', 'b', 'f')|          1|\n",
    "|     ('a', 'c')|          1|\n",
    "|('a', 'c', 'f')|          1|\n",
    "|     ('a', 'f')|          1|\n",
    "|         ('b',)|          1|\n",
    "|     ('b', 'c')|          1|\n",
    "|('b', 'c', 'f')|          1|\n",
    "|     ('b', 'f')|          1|\n",
    "|         ('c',)|          1|\n",
    "|     ('c', 'f')|          1|\n",
    "|         ('f',)|          1|\n",
    "|         ('a',)|          1|\n",
    "|     ('a', 'b')|          1|\n",
    "|('a', 'b', 'd')|          1|\n",
    "|('a', 'b', 'e')|          1|\n",
    "|     ('a', 'd')|          1|\n",
    "|('a', 'd', 'e')|          1|\n",
    "|     ('a', 'e')|          1|\n",
    "|         ('b',)|          1|\n",
    "|     ('b', 'd')|          1|\n",
    "|('b', 'd', 'e')|          1|\n",
    "|     ('b', 'e')|          1|\n",
    "|         ('d',)|          1|\n",
    "|     ('d', 'e')|          1|\n",
    "|         ('e',)|          1|\n",
    "|         ('b',)|          1|\n",
    "|     ('b', 'c')|          1|\n",
    "|         ('c',)|          1|\n",
    "|         ('b',)|          1|\n",
    "|     ('b', 'c')|          1|\n",
    "|         ('c',)|          1|\n",
    "+---------------+-----------+\n",
    "</code>\n",
    "</pre>"
   ]
  },
  {
   "cell_type": "code",
   "execution_count": 12,
   "metadata": {
    "id": "BscKKDAjMaz9"
   },
   "outputs": [
    {
     "name": "stdout",
     "output_type": "stream",
     "text": [
      "+---------------+-----------+\n",
      "|       patterns|occurrences|\n",
      "+---------------+-----------+\n",
      "|         ('a',)|          1|\n",
      "|         ('b',)|          1|\n",
      "|         ('c',)|          1|\n",
      "|         ('f',)|          1|\n",
      "|     ('a', 'b')|          1|\n",
      "|     ('a', 'c')|          1|\n",
      "|     ('a', 'f')|          1|\n",
      "|     ('b', 'c')|          1|\n",
      "|     ('b', 'f')|          1|\n",
      "|     ('c', 'f')|          1|\n",
      "|('a', 'b', 'c')|          1|\n",
      "|('a', 'b', 'f')|          1|\n",
      "|('a', 'c', 'f')|          1|\n",
      "|('b', 'c', 'f')|          1|\n",
      "|         ('a',)|          1|\n",
      "|         ('b',)|          1|\n",
      "|         ('d',)|          1|\n",
      "|         ('e',)|          1|\n",
      "|     ('a', 'b')|          1|\n",
      "|     ('a', 'd')|          1|\n",
      "|     ('a', 'e')|          1|\n",
      "|     ('b', 'd')|          1|\n",
      "|     ('b', 'e')|          1|\n",
      "|     ('d', 'e')|          1|\n",
      "|('a', 'b', 'd')|          1|\n",
      "|('a', 'b', 'e')|          1|\n",
      "|('a', 'd', 'e')|          1|\n",
      "|('b', 'd', 'e')|          1|\n",
      "|         ('b',)|          1|\n",
      "|         ('c',)|          1|\n",
      "|     ('b', 'c')|          1|\n",
      "|         ('b',)|          1|\n",
      "|         ('c',)|          1|\n",
      "|     ('b', 'c')|          1|\n",
      "+---------------+-----------+\n",
      "\n",
      "Total time: 2.6157193183898926 seconds\n"
     ]
    }
   ],
   "source": [
    "import itertools\n",
    "from pyspark.sql import Row\n",
    "start = time()\n",
    "\n",
    "\n",
    "def format_tuples(pattern):\n",
    "    \"\"\"\n",
    "    Used for visualizition.\n",
    "    Transforms tuples to a string since Dataframe does not support column of tuples with different sizes\n",
    "    (a,b,c) -> '(a,b,c)'\n",
    "    \"\"\"\n",
    "    return (str(pattern[0]), str(pattern[1]))\n",
    "\n",
    "def map_to_patterns(row):\n",
    "    \"\"\"\n",
    "    Transforms row to combinaison of element\n",
    "        Yeild: Each combinaison\n",
    "    \"\"\"\n",
    "    element = row.transaction.split(';')\n",
    "    element.sort()\n",
    "    for e in itertools.combinations(element, 1):\n",
    "          yield Row(patterns=1, occurrences=e)\n",
    "    for e in itertools.combinations(element, 2):\n",
    "        yield Row(patterns=1, occurrences=e)\n",
    "    for e in itertools.combinations(element, 3):\n",
    "        yield Row(patterns=1, occurrences=e)\n",
    "#Yield has unexpected behavior we had to swap the assignation to make it work     \n",
    "def map_to_patterns_from_list(row):\n",
    "    \"\"\"\n",
    "    Transforms row to combinaison of element\n",
    "        Yeild: Each combinaison\n",
    "    \"\"\"\n",
    "    element = row.transaction\n",
    "    element.sort()\n",
    "    for e in itertools.combinations(element, 1):\n",
    "        yield Row(patterns=1, occurrences=e)\n",
    "    for e in itertools.combinations(element, 2):\n",
    "        yield Row(patterns=1, occurrences=e)\n",
    "    for e in itertools.combinations(element, 3):\n",
    "        yield Row(patterns=1, occurrences=e)\n",
    "\n",
    "toy_rdd = toy.rdd\n",
    "patterns_rdd = toy_rdd.flatMap(map_to_patterns)\n",
    "\n",
    "# Output as dataframe\n",
    "patterns_rdd.map(format_tuples).toDF(['patterns', 'occurrences']).show(50)\n",
    "\n",
    "print(f\"Total time: {time() - start} seconds\")"
   ]
  },
  {
   "cell_type": "markdown",
   "metadata": {
    "id": "YvvRw0plMa0B"
   },
   "source": [
    "### 2.2  Reduce patterns  (2,5 points)\n",
    "Une fois que différents processeurs ont traité les transactions, une fonction **reduce** doit être appelée pour combiner des KEYS identiques (le sous-ensemble de produits) et calculer le nombre total de ses occurrences dans le dataset. En d'autres termes, cette procédure de réduction doit additionner la *VALUE* de chaque KEY identique.\n",
    "\n",
    "Créez ci-dessous une fonction **reduce_patterns** qui doit additionner la VALUE de chaque motif.\n",
    "Pour le toy dataset, la sortie attendue est:\n",
    "<pre style=\"align:center; border:1px solid black;font-size: 8pt; line-height: 1.1; height: auto; width: 28em; padding-left:5px\">\n",
    "<code>\n",
    "+---------------+--------------------+\n",
    "|       patterns|combined_occurrences|\n",
    "+---------------+--------------------+\n",
    "|         ('a',)|                   2|\n",
    "|     ('a', 'b')|                   2|\n",
    "|('a', 'b', 'c')|                   1|\n",
    "|('a', 'b', 'f')|                   1|\n",
    "|     ('a', 'c')|                   1|\n",
    "|('a', 'c', 'f')|                   1|\n",
    "|     ('a', 'f')|                   1|\n",
    "|         ('b',)|                   4|\n",
    "|     ('b', 'c')|                   3|\n",
    "|('b', 'c', 'f')|                   1|\n",
    "|     ('b', 'f')|                   1|\n",
    "|         ('c',)|                   3|\n",
    "|     ('c', 'f')|                   1|\n",
    "|         ('f',)|                   1|\n",
    "|('a', 'b', 'd')|                   1|\n",
    "|('a', 'b', 'e')|                   1|\n",
    "|     ('a', 'd')|                   1|\n",
    "|('a', 'd', 'e')|                   1|\n",
    "|     ('a', 'e')|                   1|\n",
    "|     ('b', 'd')|                   1|\n",
    "|('b', 'd', 'e')|                   1|\n",
    "|     ('b', 'e')|                   1|\n",
    "|         ('d',)|                   1|\n",
    "|     ('d', 'e')|                   1|\n",
    "|         ('e',)|                   1|\n",
    "+---------------+--------------------+\n",
    "</code>\n",
    "</pre>\n"
   ]
  },
  {
   "cell_type": "code",
   "execution_count": 13,
   "metadata": {
    "id": "67IKY_4MMa0C"
   },
   "outputs": [
    {
     "name": "stdout",
     "output_type": "stream",
     "text": [
      "+---------------+--------------------+\n",
      "|       patterns|combined_occurrences|\n",
      "+---------------+--------------------+\n",
      "|         ('a',)|                   2|\n",
      "|         ('b',)|                   4|\n",
      "|         ('c',)|                   3|\n",
      "|         ('f',)|                   1|\n",
      "|     ('a', 'b')|                   2|\n",
      "|     ('a', 'c')|                   1|\n",
      "|     ('a', 'f')|                   1|\n",
      "|     ('b', 'c')|                   3|\n",
      "|     ('b', 'f')|                   1|\n",
      "|     ('c', 'f')|                   1|\n",
      "|('a', 'b', 'c')|                   1|\n",
      "|('a', 'b', 'f')|                   1|\n",
      "|('a', 'c', 'f')|                   1|\n",
      "|('b', 'c', 'f')|                   1|\n",
      "|         ('d',)|                   1|\n",
      "|         ('e',)|                   1|\n",
      "|     ('a', 'd')|                   1|\n",
      "|     ('a', 'e')|                   1|\n",
      "|     ('b', 'd')|                   1|\n",
      "|     ('b', 'e')|                   1|\n",
      "+---------------+--------------------+\n",
      "only showing top 20 rows\n",
      "\n",
      "Total time: 4.278732776641846 seconds\n"
     ]
    }
   ],
   "source": [
    "from operator import add\n",
    "start = time()\n",
    "\n",
    "combined_patterns_rdd = patterns_rdd.reduceByKey(add)\n",
    "\n",
    "# Output as dataframe\n",
    "combined_patterns_rdd.map(format_tuples).toDF(['patterns', 'combined_occurrences']).show()\n",
    "print(f\"Total time: {time() - start} seconds\")"
   ]
  },
  {
   "cell_type": "markdown",
   "metadata": {
    "id": "6BME1VugMa0F"
   },
   "source": [
    "### 2.3 Map to subpatterns (15 points)\n",
    "Ensuite, une autre fonction **map** doit être appliquée pour générer des sous-motifs. Encore une fois, les sous-motifs sont des éléments KEY-VALUE, où la KEY est également un sous-ensemble de produits. Cependant, la création de la KEY du sous-motif est une procédure différente. Cette fois, l'idée est de décomposer la liste des produits de chaque motif (KEY), de supprimer un produit à la fois et de produire la liste résultante en tant que nouvelle clé de sous-motif.\n",
    "\n",
    "Par exemple, pour un modèle donné $P$ avec trois produits, $p_1, p_2$ et $p_3$, trois nouvelles clés de sous-motifs vont être créées: (i) supprimer $p_1$ et retourner ($p_2, p_3$) ; (ii) supprimer $p_2$ et retourner ($p_1, p_3$); et (iii) supprimer $p_3$ et retourner ($p_1, p_2$).\n",
    "\n",
    "De plus, la structure VALUE du sous-motif sera également différente. Au lieu d'une seule valeur entière unique comme nous l'avons eu dans les motifs, cette fois un *tuple* devrait être créé pour le sous-motif VALUE. Ce tuple contient le produit qui a été retiré lors de la remise de la KEY et le nombre de fois que le motif est apparu. Par exemple ci-dessus, les valeurs doivent être ($p_1,v$), ($p_2,v$) et ($p_3,v $), respectivement, où $v$ est la VALEUR du motif.\n",
    "\n",
    "L'idée derrière les sous-motif est de créer **des règles** telles que : lorsque les produits de KEY ont été achetés, l'article présent dans la VALEUR a également été acheté *v* fois. En outre, chaque motif doit également produire un sous-motif dans lequel la clé est la même liste de produits du motif, mais la valeur est un tuple avec un produit nul (None) et le nombre de fois que le motif est apparu. Cet élément sera utile pour garder une trace du nombre de fois où un tel motif a été trouvé et sera utilisé ultérieurement pour calculer la valeur de confiance lors de la génération des règles d'association.\n",
    "\n",
    "**Implémentez la fonction map_to_subpatterns qui reçoit un motif et produit tous les sous-motif trouvés. Encore une fois, chaque entrée (motif) générera plus d'un élément KEY-VALUE, puis une fonction flatMap doit être appelée.**\n",
    "\n",
    "Pour le toy dataset, la sortie attendue est:\n",
    "\n",
    "<pre style=\"align:center; border:1px solid black;font-size: 8pt; line-height: 1.1; height: auto; width: 20em; padding-left:5px\">\n",
    "<code>\n",
    "+---------------+---------+\n",
    "|    subpatterns|    rules|\n",
    "+---------------+---------+\n",
    "|         ('a',)|(None, 2)|\n",
    "|     ('a', 'b')|(None, 2)|\n",
    "|         ('b',)| ('a', 2)|\n",
    "|         ('a',)| ('b', 2)|\n",
    "|('a', 'b', 'c')|(None, 1)|\n",
    "|     ('b', 'c')| ('a', 1)|\n",
    "|     ('a', 'c')| ('b', 1)|\n",
    "|     ('a', 'b')| ('c', 1)|\n",
    "|('a', 'b', 'f')|(None, 1)|\n",
    "|     ('b', 'f')| ('a', 1)|\n",
    "|     ('a', 'f')| ('b', 1)|\n",
    "|     ('a', 'b')| ('f', 1)|\n",
    "|     ('a', 'c')|(None, 1)|\n",
    "|         ('c',)| ('a', 1)|\n",
    "|         ('a',)| ('c', 1)|\n",
    "|('a', 'c', 'f')|(None, 1)|\n",
    "|     ('c', 'f')| ('a', 1)|\n",
    "|     ('a', 'f')| ('c', 1)|\n",
    "|     ('a', 'c')| ('f', 1)|\n",
    "|     ('a', 'f')|(None, 1)|\n",
    "|         ('f',)| ('a', 1)|\n",
    "|         ('a',)| ('f', 1)|\n",
    "|         ('b',)|(None, 4)|\n",
    "|     ('b', 'c')|(None, 3)|\n",
    "|         ('c',)| ('b', 3)|\n",
    "|         ('b',)| ('c', 3)|\n",
    "|('b', 'c', 'f')|(None, 1)|\n",
    "|     ('c', 'f')| ('b', 1)|\n",
    "|     ('b', 'f')| ('c', 1)|\n",
    "|     ('b', 'c')| ('f', 1)|\n",
    "|     ('b', 'f')|(None, 1)|\n",
    "|         ('f',)| ('b', 1)|\n",
    "|         ('b',)| ('f', 1)|\n",
    "|         ('c',)|(None, 3)|\n",
    "|     ('c', 'f')|(None, 1)|\n",
    "|         ('f',)| ('c', 1)|\n",
    "|         ('c',)| ('f', 1)|\n",
    "|         ('f',)|(None, 1)|\n",
    "|('a', 'b', 'd')|(None, 1)|\n",
    "|     ('b', 'd')| ('a', 1)|\n",
    "|     ('a', 'd')| ('b', 1)|\n",
    "|     ('a', 'b')| ('d', 1)|\n",
    "|('a', 'b', 'e')|(None, 1)|\n",
    "|     ('b', 'e')| ('a', 1)|\n",
    "|     ('a', 'e')| ('b', 1)|\n",
    "|     ('a', 'b')| ('e', 1)|\n",
    "|     ('a', 'd')|(None, 1)|\n",
    "|         ('d',)| ('a', 1)|\n",
    "|         ('a',)| ('d', 1)|\n",
    "|('a', 'd', 'e')|(None, 1)|\n",
    "|     ('d', 'e')| ('a', 1)|\n",
    "|     ('a', 'e')| ('d', 1)|\n",
    "|     ('a', 'd')| ('e', 1)|\n",
    "|     ('a', 'e')|(None, 1)|\n",
    "|         ('e',)| ('a', 1)|\n",
    "|         ('a',)| ('e', 1)|\n",
    "|     ('b', 'd')|(None, 1)|\n",
    "|         ('d',)| ('b', 1)|\n",
    "|         ('b',)| ('d', 1)|\n",
    "|('b', 'd', 'e')|(None, 1)|\n",
    "|     ('d', 'e')| ('b', 1)|\n",
    "|     ('b', 'e')| ('d', 1)|\n",
    "|     ('b', 'd')| ('e', 1)|\n",
    "|     ('b', 'e')|(None, 1)|\n",
    "|         ('e',)| ('b', 1)|\n",
    "|         ('b',)| ('e', 1)|\n",
    "|         ('d',)|(None, 1)|\n",
    "|     ('d', 'e')|(None, 1)|\n",
    "|         ('e',)| ('d', 1)|\n",
    "|         ('d',)| ('e', 1)|\n",
    "|         ('e',)|(None, 1)|\n",
    "+---------------+---------+\n",
    "</code>\n",
    "</pre>"
   ]
  },
  {
   "cell_type": "code",
   "execution_count": 14,
   "metadata": {
    "id": "t8aLrdMuMa0G"
   },
   "outputs": [
    {
     "name": "stdout",
     "output_type": "stream",
     "text": [
      "+-----------+---------+\n",
      "|subpatterns|    rules|\n",
      "+-----------+---------+\n",
      "|     ('a',)|(None, 2)|\n",
      "|     ('b',)|(None, 4)|\n",
      "|     ('c',)|(None, 3)|\n",
      "|     ('f',)|(None, 1)|\n",
      "| ('a', 'b')|(None, 2)|\n",
      "|     ('b',)| ('a', 2)|\n",
      "|     ('a',)| ('b', 2)|\n",
      "| ('a', 'c')|(None, 1)|\n",
      "|     ('c',)| ('a', 1)|\n",
      "|     ('a',)| ('c', 1)|\n",
      "| ('a', 'f')|(None, 1)|\n",
      "|     ('f',)| ('a', 1)|\n",
      "|     ('a',)| ('f', 1)|\n",
      "| ('b', 'c')|(None, 3)|\n",
      "|     ('c',)| ('b', 3)|\n",
      "|     ('b',)| ('c', 3)|\n",
      "| ('b', 'f')|(None, 1)|\n",
      "|     ('f',)| ('b', 1)|\n",
      "|     ('b',)| ('f', 1)|\n",
      "| ('c', 'f')|(None, 1)|\n",
      "+-----------+---------+\n",
      "only showing top 20 rows\n",
      "\n",
      "Total time: 2.5609898567199707 seconds\n"
     ]
    }
   ],
   "source": [
    "from copy import deepcopy\n",
    "start = time()\n",
    "def map_to_subpatterns(pattern):\n",
    "    \"\"\"\n",
    "    TODO\n",
    "    \"\"\"\n",
    "    \"\"\"\n",
    "    Find all sub-pattern in the pattern\n",
    "    \"\"\"\n",
    "    products: tuple = pattern[0]\n",
    "    value: int = pattern[1]\n",
    "  #Yield has unexpected behavior we had to swap the assignation to make it work     \n",
    "    yield Row(subpatterns=(None, value), combined_rules=deepcopy(products))\n",
    "    if len(products) > 1:\n",
    "        for product in products:\n",
    "            i: int = products.index(product)\n",
    "            yield Row(subpatterns=(product, value), combined_rules=deepcopy(products[:i]) + deepcopy(products[i+1:]))\n",
    "\n",
    "\n",
    "\n",
    "subpatterns_rdd = combined_patterns_rdd.flatMap(map_to_subpatterns)\n",
    "\n",
    "# Output as dataframe 'patterns', 'combined_occurrences'\n",
    "subpatterns_rdd.map(format_tuples).toDF(['subpatterns', 'rules']).show()\n",
    "print(f\"Total time: {time() - start} seconds\")"
   ]
  },
  {
   "cell_type": "markdown",
   "metadata": {
    "id": "jl6TWh8rMa0J"
   },
   "source": [
    "### 2.4 Reduce Subpatterns (2.5 points)\n",
    "\n",
    "Encore une fois, une fonction **reduce** est nécessaire pour regrouper tous les sous-motif par leur KEY. L'objectif de cette procédure de réduction est de créer une liste de toutes les **règles** apparues dans KEY. Par conséquent, la sortie attendue résultant de cette fonction de réduction est également un élément KEY-VALUE, où la clé est la KEY du sous-motif et la valeur est un groupe contenant toutes les valeurs des sous-motif qui partagent la même clé.\n",
    "\n",
    "Pour le toy dataset, la sortie attendue est:\n",
    "\n",
    "\n",
    "<pre style=\"align:center; border:1px solid black;font-size: 8pt; line-height: 1.1; height: auto; width: 50em; padding-left:5px\">\n",
    "<code>\n",
    "+---------------+-------------------------------------------------------------+\n",
    "|subpatterns    |combined_rules                                               |\n",
    "+---------------+-------------------------------------------------------------+\n",
    "|('a',)         |[(None, 2), ('b', 2), ('c', 1), ('f', 1), ('d', 1), ('e', 1)]|\n",
    "|('a', 'b')     |[(None, 2), ('c', 1), ('f', 1), ('d', 1), ('e', 1)]          |\n",
    "|('b',)         |[('a', 2), (None, 4), ('c', 3), ('f', 1), ('d', 1), ('e', 1)]|\n",
    "|('a', 'b', 'c')|[(None, 1)]                                                  |\n",
    "|('b', 'c')     |[('a', 1), (None, 3), ('f', 1)]                              |\n",
    "|('a', 'c')     |[('b', 1), (None, 1), ('f', 1)]                              |\n",
    "|('a', 'b', 'f')|[(None, 1)]                                                  |\n",
    "|('b', 'f')     |[('a', 1), ('c', 1), (None, 1)]                              |\n",
    "|('a', 'f')     |[('b', 1), ('c', 1), (None, 1)]                              |\n",
    "|('c',)         |[('a', 1), ('b', 3), (None, 3), ('f', 1)]                    |\n",
    "|('a', 'c', 'f')|[(None, 1)]                                                  |\n",
    "|('c', 'f')     |[('a', 1), ('b', 1), (None, 1)]                              |\n",
    "|('f',)         |[('a', 1), ('b', 1), ('c', 1), (None, 1)]                    |\n",
    "|('b', 'c', 'f')|[(None, 1)]                                                  |\n",
    "|('a', 'b', 'd')|[(None, 1)]                                                  |\n",
    "|('b', 'd')     |[('a', 1), (None, 1), ('e', 1)]                              |\n",
    "|('a', 'd')     |[('b', 1), (None, 1), ('e', 1)]                              |\n",
    "|('a', 'b', 'e')|[(None, 1)]                                                  |\n",
    "|('b', 'e')     |[('a', 1), ('d', 1), (None, 1)]                              |\n",
    "|('a', 'e')     |[('b', 1), ('d', 1), (None, 1)]                              |\n",
    "+---------------+-------------------------------------------------------------+\n",
    "</code>\n",
    "</pre>\n"
   ]
  },
  {
   "cell_type": "code",
   "execution_count": 15,
   "metadata": {
    "id": "LOP-SVIhMa0J"
   },
   "outputs": [
    {
     "name": "stdout",
     "output_type": "stream",
     "text": [
      "+---------------+--------------------+\n",
      "|    subpatterns|      combined_rules|\n",
      "+---------------+--------------------+\n",
      "|         ('a',)|[(None, 2), ('b',...|\n",
      "|         ('b',)|[(None, 4), ('a',...|\n",
      "|         ('c',)|[(None, 3), ('a',...|\n",
      "|         ('f',)|[(None, 1), ('a',...|\n",
      "|     ('a', 'b')|[(None, 2), ('c',...|\n",
      "|     ('a', 'c')|[(None, 1), ('b',...|\n",
      "|     ('a', 'f')|[(None, 1), ('b',...|\n",
      "|     ('b', 'c')|[(None, 3), ('a',...|\n",
      "|     ('b', 'f')|[(None, 1), ('a',...|\n",
      "|     ('c', 'f')|[(None, 1), ('a',...|\n",
      "|('a', 'b', 'c')|         [(None, 1)]|\n",
      "|('a', 'b', 'f')|         [(None, 1)]|\n",
      "|('a', 'c', 'f')|         [(None, 1)]|\n",
      "|('b', 'c', 'f')|         [(None, 1)]|\n",
      "|         ('d',)|[(None, 1), ('a',...|\n",
      "|         ('e',)|[(None, 1), ('a',...|\n",
      "|     ('a', 'd')|[(None, 1), ('b',...|\n",
      "|     ('a', 'e')|[(None, 1), ('b',...|\n",
      "|     ('b', 'd')|[(None, 1), ('a',...|\n",
      "|     ('b', 'e')|[(None, 1), ('a',...|\n",
      "+---------------+--------------------+\n",
      "only showing top 20 rows\n",
      "\n",
      "Total time: 3.875831365585327 seconds\n"
     ]
    }
   ],
   "source": [
    "start = time()\n",
    "#Yield has unexpected behavior we had to swap the assignation to make it work     \n",
    "combined_rules = subpatterns_rdd.map(lambda row: (row.combined_rules, [ row.subpatterns ])).reduceByKey(add)\n",
    "\n",
    "\n",
    "# Output as dataframe\n",
    "combined_rules.map(format_tuples).toDF(['subpatterns', 'combined_rules']).show()\n",
    "print(f\"Total time: {time() - start} seconds\")"
   ]
  },
  {
   "cell_type": "markdown",
   "metadata": {
    "id": "Uh69x3a8Ma0P"
   },
   "source": [
    "### 2.5. Map to Association Rules (15 points)\n",
    "\n",
    "Enfin, la dernière étape de l'algorithme consiste à créer les règles d'association pour effectuer la MBA. Le but de cette fonction Map est de calculer le niveau **de confiance** de l'achat d'un produit, sachant qu'il y a déjà un ensemble de produits dans le panier. Ainsi, la KEY du sous-motif est l'ensemble des produits placés dans le panier et, pour chaque produit présent dans la liste des règles, c'est-à-dire dans la VALEUR, la confiance peut être calculée comme :\n",
    "\n",
    "\\begin{align*}\n",
    "\\frac{\\text{nombre de fois où le produit a été acheté avec KEY}}{\\text{nombre de fois où la KEY est apparue}}\n",
    "\\end{align*}\n",
    "\n",
    "Pour l'exemple donné dans la figure \"workflow\", *le café* a été acheté 20 fois et, dans 17 d'entre eux, le *lait* a été acheté ensemble. Ensuite, le niveau de confiance pour acheter du *lait* sachant que *le café* est dans le panier est $\\frac{17}{20}=0,85$, ce qui signifie que dans 85% des cas où le café a été acheté, le lait a aussi été acheté.\n",
    "\n",
    "Implémentez la fonction **map_to_assoc_rules** qui calcule le niveau de confiance pour chaque sous-motif.\n",
    "\n",
    "Pour le toy dataset, la sortie attendue est:\n",
    "<pre style=\"align:center; border:1px solid black;font-size: 8pt; line-height: 1.1; height: auto; width: 57em; padding-left:5px\">\n",
    "<code>\n",
    "+---------------+------------------------------------------------------------------+\n",
    "|patterns       |association_rules                                                 |\n",
    "+---------------+------------------------------------------------------------------+\n",
    "|('a',)         |[('b', 1.0), ('c', 0.5), ('f', 0.5), ('d', 0.5), ('e', 0.5)]      |\n",
    "|('a', 'b')     |[('c', 0.5), ('f', 0.5), ('d', 0.5), ('e', 0.5)]                  |\n",
    "|('b',)         |[('a', 0.5), ('c', 0.75), ('f', 0.25), ('d', 0.25), ('e', 0.25)]  |\n",
    "|('a', 'b', 'c')|[]                                                                |\n",
    "|('b', 'c')     |[('a', 0.3333333333333333), ('f', 0.3333333333333333)]            |\n",
    "|('a', 'c')     |[('b', 1.0), ('f', 1.0)]                                          |\n",
    "|('a', 'b', 'f')|[]                                                                |\n",
    "|('b', 'f')     |[('a', 1.0), ('c', 1.0)]                                          |\n",
    "|('a', 'f')     |[('b', 1.0), ('c', 1.0)]                                          |\n",
    "|('c',)         |[('a', 0.3333333333333333), ('b', 1.0), ('f', 0.3333333333333333)]|\n",
    "|('a', 'c', 'f')|[]                                                                |\n",
    "|('c', 'f')     |[('a', 1.0), ('b', 1.0)]                                          |\n",
    "|('f',)         |[('a', 1.0), ('b', 1.0), ('c', 1.0)]                              |\n",
    "|('b', 'c', 'f')|[]                                                                |\n",
    "|('a', 'b', 'd')|[]                                                                |\n",
    "|('b', 'd')     |[('a', 1.0), ('e', 1.0)]                                          |\n",
    "|('a', 'd')     |[('b', 1.0), ('e', 1.0)]                                          |\n",
    "|('a', 'b', 'e')|[]                                                                |\n",
    "|('b', 'e')     |[('a', 1.0), ('d', 1.0)]                                          |\n",
    "|('a', 'e')     |[('b', 1.0), ('d', 1.0)]                                          |\n",
    "+---------------+------------------------------------------------------------------+\n",
    "</code>\n",
    "</pre>"
   ]
  },
  {
   "cell_type": "code",
   "execution_count": 16,
   "metadata": {
    "id": "DPrbn5CfMa0P"
   },
   "outputs": [
    {
     "name": "stdout",
     "output_type": "stream",
     "text": [
      "+---------------+--------------------+\n",
      "|       patterns|   association_rules|\n",
      "+---------------+--------------------+\n",
      "|         ('a',)|[('b', 1.0), ('c'...|\n",
      "|         ('b',)|[('a', 0.5), ('c'...|\n",
      "|         ('c',)|[('a', 0.33333333...|\n",
      "|         ('f',)|[('a', 1.0), ('b'...|\n",
      "|     ('a', 'b')|[('c', 0.5), ('f'...|\n",
      "|     ('a', 'c')|[('b', 1.0), ('f'...|\n",
      "|     ('a', 'f')|[('b', 1.0), ('c'...|\n",
      "|     ('b', 'c')|[('a', 0.33333333...|\n",
      "|     ('b', 'f')|[('a', 1.0), ('c'...|\n",
      "|     ('c', 'f')|[('a', 1.0), ('b'...|\n",
      "|('a', 'b', 'c')|                  []|\n",
      "|('a', 'b', 'f')|                  []|\n",
      "|('a', 'c', 'f')|                  []|\n",
      "|('b', 'c', 'f')|                  []|\n",
      "|         ('d',)|[('a', 1.0), ('b'...|\n",
      "|         ('e',)|[('a', 1.0), ('b'...|\n",
      "|     ('a', 'd')|[('b', 1.0), ('e'...|\n",
      "|     ('a', 'e')|[('b', 1.0), ('d'...|\n",
      "|     ('b', 'd')|[('a', 1.0), ('e'...|\n",
      "|     ('b', 'e')|[('a', 1.0), ('d'...|\n",
      "+---------------+--------------------+\n",
      "only showing top 20 rows\n",
      "\n"
     ]
    }
   ],
   "source": [
    "#Yield has unexpected behavior we had to swap the assignation to make it work     \n",
    "def map_to_assoc_rules(rule):\n",
    "    \"\"\"\n",
    "    TODO\n",
    "    \"\"\"\n",
    "    pattern = rule[0]\n",
    "    rules = rule[1]\n",
    "    index = rules.index([item for item in rules if item[0] == None][0])\n",
    "    numTimeBought = rules.pop(index)[1]\n",
    "    newListOfRules = []\n",
    "    for element in rules:\n",
    "        newListOfRules.append((element[0], element[1] / numTimeBought))\n",
    "    yield Row(patterns=newListOfRules, association_rules=pattern)\n",
    "    \n",
    "    \n",
    "assoc_rules = combined_rules.flatMap(map_to_assoc_rules)\n",
    "\n",
    "# Output as dataframe\n",
    "assoc_rules.map(format_tuples).toDF(['patterns', 'association_rules']).show()"
   ]
  },
  {
   "cell_type": "markdown",
   "metadata": {
    "id": "BPV5g2hwMa0U"
   },
   "source": [
    "## 3. Instacart dataset\n",
    "\n",
    "Avec votre algorithme MBA prêt à être utilisé, il est maintenant temps de travailler sur l'ensemble de données réel. Pour cette partie du TP, téléchargez le dataset [instacart](https://www.dropbox.com/s/qa7nsw2at3hsbmp/instacart.zip?dl=0) et lisez sa [description](https://gist.github.com/jeremystan/c3b39d947d9b88b3ccff3147dbcf6c6b) pour comprendre la structure de l'ensemble de données.\n",
    "\n",
    "Avant d'appliquer l'algorithme développé sur l'ensemble de données instacart, vous devez d'abord filtrer les transactions pour qu'elles soient au même format défini par votre algorithme (une transaction par ligne). Pour manipuler les données, nous pouvons utiliser le bloc de données de Spark et le module SQL présenté dans la section 1.\n",
    "\n",
    "La cellule de code suivante utilise le module Spark SQL pour lire les commandes de ``order_products__train.csv`` et les informations détaillées de ``orders.csv`` et ``products.csv`` pour construire une dataframe qui contient un liste de tous les produits jamais achetés par chaque utilisateur."
   ]
  },
  {
   "cell_type": "code",
   "execution_count": 17,
   "metadata": {
    "id": "6oB1eTkeMa0W"
   },
   "outputs": [
    {
     "name": "stdout",
     "output_type": "stream",
     "text": [
      "order_products__train.csv\n",
      "+--------+----------+-----------------+---------+\n",
      "|order_id|product_id|add_to_cart_order|reordered|\n",
      "+--------+----------+-----------------+---------+\n",
      "|       1|     49302|                1|        1|\n",
      "|       1|     11109|                2|        1|\n",
      "|       1|     10246|                3|        0|\n",
      "|       1|     49683|                4|        0|\n",
      "|       1|     43633|                5|        1|\n",
      "+--------+----------+-----------------+---------+\n",
      "only showing top 5 rows\n",
      "\n",
      "orders.csv\n",
      "+--------+-------+--------+------------+---------+-----------------+----------------------+\n",
      "|order_id|user_id|eval_set|order_number|order_dow|order_hour_of_day|days_since_prior_order|\n",
      "+--------+-------+--------+------------+---------+-----------------+----------------------+\n",
      "| 2539329|      1|   prior|           1|        2|                8|                  null|\n",
      "| 2398795|      1|   prior|           2|        3|                7|                  15.0|\n",
      "|  473747|      1|   prior|           3|        3|               12|                  21.0|\n",
      "| 2254736|      1|   prior|           4|        4|                7|                  29.0|\n",
      "|  431534|      1|   prior|           5|        4|               15|                  28.0|\n",
      "+--------+-------+--------+------------+---------+-----------------+----------------------+\n",
      "only showing top 5 rows\n",
      "\n",
      "products.csv\n",
      "+----------+--------------------+--------+-------------+\n",
      "|product_id|        product_name|aisle_id|department_id|\n",
      "+----------+--------------------+--------+-------------+\n",
      "|         1|Chocolate Sandwic...|      61|           19|\n",
      "|         2|    All-Seasons Salt|     104|           13|\n",
      "|         3|Robust Golden Uns...|      94|            7|\n",
      "|         4|Smart Ones Classi...|      38|            1|\n",
      "|         5|Green Chile Anyti...|       5|           13|\n",
      "+----------+--------------------+--------+-------------+\n",
      "only showing top 5 rows\n",
      "\n",
      "+-------+--------------------------------------------------------------------------------+\n",
      "|user_id|                                                                        products|\n",
      "+-------+--------------------------------------------------------------------------------+\n",
      "|      1|[Soda, Organic String Cheese, 0% Greek Strained Yogurt, XL Pick-A-Size Paper ...|\n",
      "|      2|[Organic Roasted Turkey Breast, Gluten Free Whole Grain Bread, Plantain Chips...|\n",
      "|      5|[Organic Raw Agave Nectar, Organic Large Extra Fancy Fuji Apple, Sharp Chedda...|\n",
      "|      7|[Panama Peach Antioxidant Infusion, Antioxidant Infusions Beverage Malawi Man...|\n",
      "|      8|[Shallot, Organic SprouTofu Silken Tofu, Nutritional Yeast Seasoning, Organic...|\n",
      "+-------+--------------------------------------------------------------------------------+\n",
      "only showing top 5 rows\n",
      "\n",
      "Total time: 95.28126668930054 seconds\n"
     ]
    }
   ],
   "source": [
    "start = time()\n",
    "df_order_prod = spark.read.option('encoding', 'ISO-8859-1').csv('s3://fouillededonnee/instacart/order_products__train.csv', header=True, sep=',', inferSchema=True)\n",
    "print('order_products__train.csv')\n",
    "df_order_prod.show(5)\n",
    "\n",
    "df_orders = spark.read.option('encoding', 'ISO-8859-1').csv('s3://fouillededonnee/instacart/orders.csv', header=True, sep=',', inferSchema=True)\n",
    "print('orders.csv')\n",
    "df_orders.show(5)\n",
    "\n",
    "df_products = spark.read.option('encoding', 'ISO-8859-1').csv('s3://fouillededonnee/instacart/products.csv', header=True, sep=',', inferSchema=True)\n",
    "print('products.csv')\n",
    "df_products.show(5)\n",
    "\n",
    "\n",
    "\"\"\"\n",
    "List of products ever purchased by each user\n",
    "\"\"\"\n",
    "# USING SQL\n",
    "df_order_prod.createOrReplaceTempView(\"order_prod\") # creates table 'order_prod'\n",
    "df_orders.createOrReplaceTempView(\"orders\") # creates table 'orders'\n",
    "df_products.createOrReplaceTempView(\"products\") # creates table 'products'\n",
    "spark.sql('SELECT o.user_id, COLLECT_LIST(p.product_name) AS products' \n",
    "               ' FROM orders o '\n",
    "               ' INNER JOIN order_prod op ON op.order_id = o.order_id'\n",
    "               ' INNER JOIN products p    ON op.product_id = p.product_id'\n",
    "               ' GROUP BY user_id ORDER BY o.user_id').show(5, truncate=80)\n",
    "\n",
    "\n",
    "# USING DATAFRAME OPERATIONS\n",
    "# df_orders.join(df_order_prod, df_order_prod.order_id == df_orders.order_id, 'inner')\\\n",
    "# .join(df_products, df_products.product_id == df_order_prod.product_id, 'inner')\\\n",
    "# .groupBy(df_orders.user_id).agg(f.collect_list(df_products.product_name).alias('products'))\\\n",
    "# .orderBy(df_orders.user_id).show(5, truncate=80)\n",
    "print(f\"Total time: {time() - start} seconds\")"
   ]
  },
  {
   "cell_type": "markdown",
   "metadata": {
    "id": "JEqVeqhkMa0a"
   },
   "source": [
    "### 3.1 Perspectives commerciales (25 points) \n",
    "\n",
    "Maintenant, vous êtes le *data scientist*. En ne considérant que les commandes de ``order_products__train.csv``, l'utilisation du module Spark SQL, performant avec SQL ou dataframe, pour répondre aux questions suivantes:\n",
    "\n",
    "1. Quels sont les 10 produits les plus susceptibles d'être commandé de nouveau? Ne considérez que les produits achetés au moins 40 fois pour cette tâche.\n",
    "2. Quels sont les 3 produits les plus achetés dans chaque département?\n",
    "4. Quelle est la taille moyenne du panier pour chaque jour de la semaine?\n",
    "    - utilisez un barplot pour visualiser vos résultats\n",
    "\n",
    "**La sortie de ces questions doit contenir le NOM des produits, pas leur ID.**"
   ]
  },
  {
   "cell_type": "code",
   "execution_count": 12,
   "metadata": {},
   "outputs": [
    {
     "data": {
      "application/vnd.jupyter.widget-view+json": {
       "model_id": "",
       "version_major": 2,
       "version_minor": 0
      },
      "text/plain": [
       "FloatProgress(value=0.0, bar_style='info', description='Progress:', layout=Layout(height='25px', width='50%'),…"
      ]
     },
     "metadata": {},
     "output_type": "display_data"
    },
    {
     "name": "stdout",
     "output_type": "stream",
     "text": [
      "+-----------------------------+-------------+-------------------+\n",
      "|                 product_name|numTimeBought|   numTimeReordered|\n",
      "+-----------------------------+-------------+-------------------+\n",
      "|         2% Lactose Free Milk|          202|0.42574257425742573|\n",
      "|     Sparkling Water, Bottles|          175| 0.3314285714285714|\n",
      "|           Organic Dark Roast|           57| 0.3157894736842105|\n",
      "|Boudin Sliced Sourdough Round|           45| 0.3111111111111111|\n",
      "|       White Multifold Towels|          154| 0.3051948051948052|\n",
      "|            Zero Calorie Cola|          942|0.30254777070063693|\n",
      "|     USDA AA Extra Large Eggs|          150|                0.3|\n",
      "|         Organic Low Fat Milk|         1151|0.29192006950477845|\n",
      "|              Pinot Noir Rose|           58|0.27586206896551724|\n",
      "| Original Real Live Chocolate|           41| 0.2682926829268293|\n",
      "+-----------------------------+-------------+-------------------+\n",
      "only showing top 10 rows\n",
      "\n",
      "Total time: 1.9795773029327393 seconds"
     ]
    }
   ],
   "source": [
    "#Quels sont les 10 produits les plus susceptibles d'être commandé de nouveau? Ne considérez que les produits achetés au moins 40 fois pour cette tâche.\n",
    "start = time()\n",
    "spark.sql(\n",
    "    'SELECT p.product_name, SUM(op.add_to_cart_order) AS numTimeBought , SUM(op.reordered) / SUM(op.add_to_cart_order) AS numTimeReordered'\n",
    "                ' FROM products p'\n",
    "                ' INNER JOIN order_prod op ON p.product_id = op.product_id'\n",
    "                ' GROUP BY p.product_name HAVING numTimeBought >= 40 ORDER BY numTimeReordered DESC'\n",
    ").show(10, truncate=80)\n",
    "print(f\"Total time: {time() - start} seconds\")"
   ]
  },
  {
   "cell_type": "code",
   "execution_count": 13,
   "metadata": {
    "scrolled": true
   },
   "outputs": [
    {
     "data": {
      "application/vnd.jupyter.widget-view+json": {
       "model_id": "",
       "version_major": 2,
       "version_minor": 0
      },
      "text/plain": [
       "FloatProgress(value=0.0, bar_style='info', description='Progress:', layout=Layout(height='25px', width='50%'),…"
      ]
     },
     "metadata": {},
     "output_type": "display_data"
    },
    {
     "name": "stdout",
     "output_type": "stream",
     "text": [
      "+--------------------+-------------+\n",
      "|        product_name|department_id|\n",
      "+--------------------+-------------+\n",
      "|Sparkling Water G...|            7|\n",
      "|Lime Sparkling Water|            7|\n",
      "|Sparkling Natural...|            7|\n",
      "|Baby Food Stage 2...|           18|\n",
      "|Spinach Peas & Pe...|           18|\n",
      "|Gluten Free Spong...|           18|\n",
      "|Organic Tomato Ba...|            9|\n",
      "|      Marinara Sauce|            9|\n",
      "|         Basil Pesto|            9|\n",
      "| Organic Black Beans|           15|\n",
      "|No Salt Added Bla...|           15|\n",
      "|Organic Garbanzo ...|           15|\n",
      "|Extra Virgin Oliv...|           13|\n",
      "|Creamy Peanut Butter|           13|\n",
      "|Organic Creamy Pe...|           13|\n",
      "|  Honey Nut Cheerios|           14|\n",
      "|Organic Old Fashi...|           14|\n",
      "|  Raisin Bran Cereal|           14|\n",
      "|100% Whole Wheat ...|            3|\n",
      "|Organic Bread wit...|            3|\n",
      "|     Sourdough Bread|            3|\n",
      "|  Organic Whole Milk|           16|\n",
      "|     Grated Parmesan|           16|\n",
      "|Organic Whole Str...|           16|\n",
      "|100% Recycled Pap...|           17|\n",
      "|Sustainably Soft ...|           17|\n",
      "|       Aluminum Foil|           17|\n",
      "|      Taco Seasoning|            6|\n",
      "|Organic Sea Salt ...|            6|\n",
      "|New Mexico Taco S...|            6|\n",
      "|         Blueberries|            1|\n",
      "|Organic Broccoli ...|            1|\n",
      "|Organic Whole Str...|            1|\n",
      "|     Original Hummus|           20|\n",
      "|Uncured Genoa Salami|           20|\n",
      "|Organic Extra Fir...|           20|\n",
      "|Organic Riced Cau...|           21|\n",
      "|Uncured Beef Hot Dog|           21|\n",
      "|Organic Celery Bunch|           21|\n",
      "|  Lavender Hand Soap|           11|\n",
      "|        Cotton Swabs|           11|\n",
      "|Lemon Verbena Han...|           11|\n",
      "|     Sauvignon Blanc|            5|\n",
      "|  Cabernet Sauvignon|            5|\n",
      "|          Chardonnay|            5|\n",
      "|Grain Free Chicke...|            8|\n",
      "|Double Duty Advan...|            8|\n",
      "|24/7 Performance ...|            8|\n",
      "|Lightly Salted Ba...|           19|\n",
      "|Pretzel Crisps Or...|           19|\n",
      "|Original Veggie S...|           19|\n",
      "|         Dried Mango|           10|\n",
      "| Organic Rolled Oats|           10|\n",
      "|Organic Black Mis...|           10|\n",
      "|              Banana|            4|\n",
      "|Organic Strawberries|            4|\n",
      "|Bag of Organic Ba...|            4|\n",
      "|Boneless Skinless...|           12|\n",
      "|Ground Turkey Breast|           12|\n",
      "|Boneless Skinless...|           12|\n",
      "|Roasted Almond Bu...|            2|\n",
      "|Light CocoWhip! C...|            2|\n",
      "|    93/7 Ground Beef|            2|\n",
      "+--------------------+-------------+\n",
      "\n",
      "Total time: 2.8875796794891357 seconds"
     ]
    }
   ],
   "source": [
    "#Quels sont les 3 produits les plus achetés dans chaque département?\n",
    "start = time()\n",
    "spark.sql(\n",
    "    'SELECT ra.product_name, ra.department_id' \n",
    "    ' FROM (' \n",
    "        ' SELECT ap.product_name, ap.department_id, ap.numTimeBought, Rank() '\n",
    "        ' over (PARTITION BY ap.department_id ORDER BY ap.numTimeBought DESC) AS Rank'\n",
    "        ' FROM (SELECT p.product_name, p.department_id, SUM(op.add_to_cart_order) AS numTimeBought FROM products p'\n",
    "            ' INNER JOIN order_prod op ON p.product_id = op.product_id'\n",
    "            ' GROUP BY p.department_id, p.product_name) AS ap) AS ra'\n",
    "        ' WHERE Rank <= 3'\n",
    ").show(100)\n",
    "print(f\"Total time: {time() - start} seconds\")"
   ]
  },
  {
   "cell_type": "code",
   "execution_count": 18,
   "metadata": {},
   "outputs": [
    {
     "name": "stdout",
     "output_type": "stream",
     "text": [
      "+---------+------------------+\n",
      "|order_dow|      avg(sumCart)|\n",
      "+---------+------------------+\n",
      "|        0|108.93103950482433|\n",
      "|        1| 91.54849532330215|\n",
      "|        2|  84.5784477945282|\n",
      "|        3| 82.71766430802576|\n",
      "|        4| 81.92299016229087|\n",
      "|        5| 87.07221647707686|\n",
      "|        6| 97.87334003491878|\n",
      "+---------+------------------+\n",
      "\n",
      "Total time: 20.8921058177948 seconds\n"
     ]
    }
   ],
   "source": [
    "#Quelle est la taille moyenne du panier pour chaque jour de la semaine?\n",
    "#utilisez un barplot pour visualiser vos résultats\n",
    "start = time()\n",
    "\n",
    "dataHistogram = spark.sql(\n",
    "    'SELECT o.order_dow, AVG(ct.sumCart)'\n",
    "    ' FROM (SELECT op.order_id, SUM(op.add_to_cart_order) AS sumCart'\n",
    "        ' FROM order_prod op'\n",
    "        ' GROUP BY op.order_id) AS ct'\n",
    "    ' INNER JOIN orders o ON o.order_id=ct.order_id'\n",
    "    ' GROUP BY o.order_dow'\n",
    "    ' ORDER BY o.order_dow'\n",
    ")\n",
    "\n",
    "dataHistogram.show(10)\n",
    "print(f\"Total time: {time() - start} seconds\")"
   ]
  },
  {
   "cell_type": "code",
   "execution_count": 19,
   "metadata": {},
   "outputs": [
    {
     "data": {
      "text/plain": [
       "<matplotlib.axes._subplots.AxesSubplot at 0x148a6511320>"
      ]
     },
     "execution_count": 19,
     "metadata": {},
     "output_type": "execute_result"
    },
    {
     "data": {
      "image/png": "[encoded data removed]",
      "text/plain": [
       "<Figure size 432x288 with 1 Axes>"
      ]
     },
     "metadata": {
      "needs_background": "light"
     },
     "output_type": "display_data"
    }
   ],
   "source": [
    "\n",
    "dataHistogram.toPandas().plot.bar(x=\"order_dow\", y=\"avg(sumCart)\")"
   ]
  },
  {
   "cell_type": "markdown",
   "metadata": {
    "id": "PEWqTH1QMa0a"
   },
   "source": [
    "### 3.2 MBA pour le training set (15 points)\n",
    "\n",
    "En utilisant les commandes du ``order_products__train.csv``, créez un bloc de données où chaque ligne contient la colonne ``transaction`` avec la liste des produits achetés, de manière similaire à le toy dataset. Ensuite, exécutez l'algorithme MBA pour cet ensemble de transactions.\n",
    "\n",
    "- Vous devez signaler le temps passé pour effectuer cette tâche.\n",
    "- La sortie doit contenir le nom des produits."
   ]
  },
  {
   "cell_type": "code",
   "execution_count": 16,
   "metadata": {
    "id": "vxZh_f3hMa0b"
   },
   "outputs": [
    {
     "data": {
      "application/vnd.jupyter.widget-view+json": {
       "model_id": "",
       "version_major": 2,
       "version_minor": 0
      },
      "text/plain": [
       "FloatProgress(value=0.0, bar_style='info', description='Progress:', layout=Layout(height='25px', width='50%'),…"
      ]
     },
     "metadata": {},
     "output_type": "display_data"
    },
    {
     "name": "stdout",
     "output_type": "stream",
     "text": [
      "Total time: 1.196732997894287 seconds"
     ]
    }
   ],
   "source": [
    "\n",
    "start = time()\n",
    "\n",
    "\"\"\"\n",
    "TODO: create a query to create and sctruct the transactions\n",
    "\"\"\"\n",
    "orders_rdd =spark.sql(\n",
    "    'SELECT op.order_id, COLLECT_LIST(p.product_name) AS transaction '\n",
    "    'FROM order_prod op '\n",
    "    'INNER JOIN products p ON op.product_id == p.product_id '\n",
    "    'GROUP BY op.order_id'\n",
    ").rdd\n",
    "print(f\"Total time: {time() - start} seconds\")"
   ]
  },
  {
   "cell_type": "code",
   "execution_count": 17,
   "metadata": {
    "id": "dewN0YUEMa0h"
   },
   "outputs": [
    {
     "data": {
      "application/vnd.jupyter.widget-view+json": {
       "model_id": "",
       "version_major": 2,
       "version_minor": 0
      },
      "text/plain": [
       "FloatProgress(value=0.0, bar_style='info', description='Progress:', layout=Layout(height='25px', width='50%'),…"
      ]
     },
     "metadata": {},
     "output_type": "display_data"
    },
    {
     "name": "stdout",
     "output_type": "stream",
     "text": [
      "+--------------------------------------------------------------------------------------------------------------------------------------------------+------------------------------------------------------------------------------------------------------------------------------------------------------------------------------------------------------------------------------------------------------------------------------------------------------------------------------------------------------------------------------------------------------------------------------------------------------------------------------------------------------------------------------------------------------------------------------------------------------------------------------------------------------------------------------------------------------------------------------------------------------------------------------------------------------------------------------------------------------------------------------------------------------------------------------------------------------------------------------------------------------------------------------------------------------------------------------------------------------------------------------------------------------------------------------------------------------------------------------------------------------------------------------------------------------------------------------------------------------------------------------------------------------------------------------------------------------------------------------------------------------------------------------------------------------------------------------------------------------------------------------------------------------------------------------------------------------------------------------------------------------------------------------------------------------------------------------------------------------------------------------------------------------------------------------------------------------------------------------------------------------------------------------------------------------------------------------------------------------------------------------------------------------------------------------------------------------------------------------------------------------------------------------------------------------------------------------------------------------------------------------------------------------------------------------------------------------------------------------------------------------------------------------------------------------------------------------------------------------------------------------------------------------------------------------------------------------------------------------------------------------------------------------------------------------------------------------------------------------------------------------------------------------------------------------------------------------------------------------------------------------------------------------------------------------------------------------------------------------------------------------------------------------------------------------------------------------------------------------------------------------------------------------------------------------------------------------------------------------------------------------------------------------------------------------------------------------------------------------------------------------------------------------------------------------------------------------------------------------------------------------------------------------------------------------------------------------------------------------------------------------------------------------------------------------------------------------------------------------------------------------------------------------------------------------------------------------------------------------------------------------------------------------------------------------------------------------------------------------------------------------------------------------------------------------------------------------------------------------------------------------------------------------------------------------------------------------------------------------------------------------------------------------------------------------------------------------------------------------------------------------------------------------------------------------------------------------------------------------------------------------------------------------------------------------------------------------------------------------------------------------------------------------------------------------------------------------------------------------------------------------------------------------+\n",
      "|patterns                                                                                                                                          |association_rules                                                                                                                                                                                                                                                                                                                                                                                                                                                                                                                                                                                                                                                                                                                                                                                                                                                                                                                                                                                                                                                                                                                                                                                                                                                                                                                                                                                                                                                                                                                                                                                                                                                                                                                                                                                                                                                                                                                                                                                                                                                                                                                                                                                                                                                                                                                                                                                                                                                                                                                                                                                                                                                                                                                                                                                                                                                                                                                                                                                                                                                                                                                                                                                                                                                                                                                                                                                                                                                                                                                                                                                                                                                                                                                                                                                                                                                                                                                                                                                                                                                                                                                                                                                                                                                                                                                                                                                                                                                                                                                                                                                                                                                                                                                                                                                                                                                                                     |\n",
      "+--------------------------------------------------------------------------------------------------------------------------------------------------+------------------------------------------------------------------------------------------------------------------------------------------------------------------------------------------------------------------------------------------------------------------------------------------------------------------------------------------------------------------------------------------------------------------------------------------------------------------------------------------------------------------------------------------------------------------------------------------------------------------------------------------------------------------------------------------------------------------------------------------------------------------------------------------------------------------------------------------------------------------------------------------------------------------------------------------------------------------------------------------------------------------------------------------------------------------------------------------------------------------------------------------------------------------------------------------------------------------------------------------------------------------------------------------------------------------------------------------------------------------------------------------------------------------------------------------------------------------------------------------------------------------------------------------------------------------------------------------------------------------------------------------------------------------------------------------------------------------------------------------------------------------------------------------------------------------------------------------------------------------------------------------------------------------------------------------------------------------------------------------------------------------------------------------------------------------------------------------------------------------------------------------------------------------------------------------------------------------------------------------------------------------------------------------------------------------------------------------------------------------------------------------------------------------------------------------------------------------------------------------------------------------------------------------------------------------------------------------------------------------------------------------------------------------------------------------------------------------------------------------------------------------------------------------------------------------------------------------------------------------------------------------------------------------------------------------------------------------------------------------------------------------------------------------------------------------------------------------------------------------------------------------------------------------------------------------------------------------------------------------------------------------------------------------------------------------------------------------------------------------------------------------------------------------------------------------------------------------------------------------------------------------------------------------------------------------------------------------------------------------------------------------------------------------------------------------------------------------------------------------------------------------------------------------------------------------------------------------------------------------------------------------------------------------------------------------------------------------------------------------------------------------------------------------------------------------------------------------------------------------------------------------------------------------------------------------------------------------------------------------------------------------------------------------------------------------------------------------------------------------------------------------------------------------------------------------------------------------------------------------------------------------------------------------------------------------------------------------------------------------------------------------------------------------------------------------------------------------------------------------------------------------------------------------------------------------------------------------------------------------------------------------------------+\n",
      "|('Cola', 'Multigrain Pancake & Waffle Mix', 'Organi Cheddar Cheese Mild sliced')                                                                  |[]                                                                                                                                                                                                                                                                                                                                                                                                                                                                                                                                                                                                                                                                                                                                                                                                                                                                                                                                                                                                                                                                                                                                                                                                                                                                                                                                                                                                                                                                                                                                                                                                                                                                                                                                                                                                                                                                                                                                                                                                                                                                                                                                                                                                                                                                                                                                                                                                                                                                                                                                                                                                                                                                                                                                                                                                                                                                                                                                                                                                                                                                                                                                                                                                                                                                                                                                                                                                                                                                                                                                                                                                                                                                                                                                                                                                                                                                                                                                                                                                                                                                                                                                                                                                                                                                                                                                                                                                                                                                                                                                                                                                                                                                                                                                                                                                                                                                                                    |\n",
      "|('Limes', 'Romaine Lettuce', 'Total 2% Greek Strained Yogurt with Cherry 5.3 oz')                                                                 |[]                                                                                                                                                                                                                                                                                                                                                                                                                                                                                                                                                                                                                                                                                                                                                                                                                                                                                                                                                                                                                                                                                                                                                                                                                                                                                                                                                                                                                                                                                                                                                                                                                                                                                                                                                                                                                                                                                                                                                                                                                                                                                                                                                                                                                                                                                                                                                                                                                                                                                                                                                                                                                                                                                                                                                                                                                                                                                                                                                                                                                                                                                                                                                                                                                                                                                                                                                                                                                                                                                                                                                                                                                                                                                                                                                                                                                                                                                                                                                                                                                                                                                                                                                                                                                                                                                                                                                                                                                                                                                                                                                                                                                                                                                                                                                                                                                                                                                                    |\n",
      "|('2% Chocolate Milk', 'Grands Southern Homestyle Biscuit', 'Sliced Dried Beef')                                                                   |[]                                                                                                                                                                                                                                                                                                                                                                                                                                                                                                                                                                                                                                                                                                                                                                                                                                                                                                                                                                                                                                                                                                                                                                                                                                                                                                                                                                                                                                                                                                                                                                                                                                                                                                                                                                                                                                                                                                                                                                                                                                                                                                                                                                                                                                                                                                                                                                                                                                                                                                                                                                                                                                                                                                                                                                                                                                                                                                                                                                                                                                                                                                                                                                                                                                                                                                                                                                                                                                                                                                                                                                                                                                                                                                                                                                                                                                                                                                                                                                                                                                                                                                                                                                                                                                                                                                                                                                                                                                                                                                                                                                                                                                                                                                                                                                                                                                                                                                    |\n",
      "|('Blueberry Crisp Energy Bar', 'Kombucha, Organic Raw, Citrus')                                                                                   |[('Sweet Rejuvenation Cashew Butter Macrobar', 0.5), ('Organic Granny Smith Apple', 0.5), ('Grapefruit Juice', 0.5), ('Organic Raspberries', 0.5), ('White Chocolate Macadamia Nut Energy Bar', 0.5), ('Twelve Essentials Fruit and Vegetable Juice', 0.5), ('Oatmeal Raisin Walnut Energy Bar', 0.5), ('Seedless Red Grapes', 0.5), ('Peanut Toffee Buzz Energy Bar', 0.5), ('Banana', 0.5), ('Organic Fuji Apple', 0.5), ('Truffle Popcorn', 0.5), ('Organic Strawberry Hibiscus Kombucha', 0.5), ('Bartlett Pears', 0.5), ('Organic Blueberries', 0.5), ('Guava Goddess Organic Kambucha', 0.5), ('Juice Beverage, Cold Pressed, Kale Apple Ginger Romaine Spinach Cucumber Celery Parsley Lemon', 0.5)]                                                                                                                                                                                                                                                                                                                                                                                                                                                                                                                                                                                                                                                                                                                                                                                                                                                                                                                                                                                                                                                                                                                                                                                                                                                                                                                                                                                                                                                                                                                                                                                                                                                                                                                                                                                                                                                                                                                                                                                                                                                                                                                                                                                                                                                                                                                                                                                                                                                                                                                                                                                                                                                                                                                                                                                                                                                                                                                                                                                                                                                                                                                                                                                                                                                                                                                                                                                                                                                                                                                                                                                                                                                                                                                                                                                                                                                                                                                                                                                                                                                                                                                                                                                           |\n",
      "|('Applewood Smoked Bacon', 'Farmhouse Mac & Cheese', 'Organic Baby Arugula')                                                                      |[]                                                                                                                                                                                                                                                                                                                                                                                                                                                                                                                                                                                                                                                                                                                                                                                                                                                                                                                                                                                                                                                                                                                                                                                                                                                                                                                                                                                                                                                                                                                                                                                                                                                                                                                                                                                                                                                                                                                                                                                                                                                                                                                                                                                                                                                                                                                                                                                                                                                                                                                                                                                                                                                                                                                                                                                                                                                                                                                                                                                                                                                                                                                                                                                                                                                                                                                                                                                                                                                                                                                                                                                                                                                                                                                                                                                                                                                                                                                                                                                                                                                                                                                                                                                                                                                                                                                                                                                                                                                                                                                                                                                                                                                                                                                                                                                                                                                                                                    |\n",
      "|('Organic Small Bunch Celery', 'Reese Artichoke Hearts', 'Unsweetened Almondmilk')                                                                |[]                                                                                                                                                                                                                                                                                                                                                                                                                                                                                                                                                                                                                                                                                                                                                                                                                                                                                                                                                                                                                                                                                                                                                                                                                                                                                                                                                                                                                                                                                                                                                                                                                                                                                                                                                                                                                                                                                                                                                                                                                                                                                                                                                                                                                                                                                                                                                                                                                                                                                                                                                                                                                                                                                                                                                                                                                                                                                                                                                                                                                                                                                                                                                                                                                                                                                                                                                                                                                                                                                                                                                                                                                                                                                                                                                                                                                                                                                                                                                                                                                                                                                                                                                                                                                                                                                                                                                                                                                                                                                                                                                                                                                                                                                                                                                                                                                                                                                                    |\n",
      "|('Dha Omega 3 Reduced Fat 2% Milk', 'Sustainably Soft Bath Tissue')                                                                               |[('Michigan Organic Kale', 0.5), ('Aged White Cheddar Baked Rice & Corn Puffs Gluten Free Lunch Packs', 0.5), ('Wheat English Muffins', 0.5), ('100% Recycled Paper Towels', 0.5), ('Yo Baby Organic Whole Milk Banana Mango Yogurt', 0.5), ('Light and Lean Meatless Swedish Meatballs With Broccoli And Pasta', 0.5), ('Organic Large Extra Fancy Fuji Apple', 0.5), ('PlusShot Strawberry Probiotic Juice Drink', 0.5), ('Bowls Tortilla Casserole & Black Beans', 0.5), ('Mango Probiotic Juice Drink', 0.5), ('Panda Puffs Peanut Butter Cereal', 0.5), ('Avocado Roll', 0.5), ('Vegetable Lasagna Light In Sodium', 0.5), ('Organic Garnet Sweet Potato (Yam)', 0.5), ('Tuscan White Beans', 0.5), ('Thick & Chunky Salsa', 0.5), ('Bag of Organic Bananas', 1.0), ('Frozen Peaches', 0.5), ('Organic Sweet Vanilla Bean Nutrition Complete Protein Shake', 0.5), ('White Cannellini Kidney Beans', 0.5), ('Light & Lean Spaghetti Italiano with Meatless Meatballs', 0.5), ('Organic Promise Strawberry Fields Cereal', 0.5), ('All Natural Fresh Buttermilk Ranch Dressing Marinade', 0.5), ('Gluten Free Garden Vegetable Lasagna', 0.5), ('Organic Green Lentils', 0.5), ('Unsalted Butter', 0.5), ('Light and Lean 3 Cheese Penne Marinara', 0.5), ('Rosemary Mini Croccantini', 0.5), ('Organic Hass Avocado', 0.5)]                                                                                                                                                                                                                                                                                                                                                                                                                                                                                                                                                                                                                                                                                                                                                                                                                                                                                                                                                                                                                                                                                                                                                                                                                                                                                                                                                                                                                                                                                                                                                                                                                                                                                                                                                                                                                                                                                                                                                                                                                                                                                                                                                                                                                                                                                                                                                                                                                                                                                                                                                                                                                                                                                                                                                                                                                                                                                                                                                                                                                                                                                                                                                                                                                                                                                                                                                                                                                                                                                                                                                                      |\n",
      "|('Dark Chocolate with 88% Cocoa', 'Heart to Heart Honey Toasted Oat Cereal', 'Organic Salted Butter')                                             |[]                                                                                                                                                                                                                                                                                                                                                                                                                                                                                                                                                                                                                                                                                                                                                                                                                                                                                                                                                                                                                                                                                                                                                                                                                                                                                                                                                                                                                                                                                                                                                                                                                                                                                                                                                                                                                                                                                                                                                                                                                                                                                                                                                                                                                                                                                                                                                                                                                                                                                                                                                                                                                                                                                                                                                                                                                                                                                                                                                                                                                                                                                                                                                                                                                                                                                                                                                                                                                                                                                                                                                                                                                                                                                                                                                                                                                                                                                                                                                                                                                                                                                                                                                                                                                                                                                                                                                                                                                                                                                                                                                                                                                                                                                                                                                                                                                                                                                                    |\n",
      "|('Organic Shredded Carrots', 'Steel Cut Irish Oatmeal')                                                                                           |[('Organic Low Sodium Vegetable Broth', 0.5), ('Guacamole', 0.5), ('Shredded Mild Cheddar Cheese', 0.5), ('Organic Whole Milk', 0.5), ('Bok Choy', 0.5), ('Organic White Basmati Rice', 0.5), ('Gluten-Free Garlic Goodness Vietnamese Brown Rice Noodle Soup', 0.5), ('Organic Very Raw Honey', 0.5), ('Apple Honeycrisp Organic', 0.5), ('Organic Vanilla Whole Milk Yogurt', 0.5), ('Alfredo Pasta Sauce', 0.5), ('Red Plums', 0.5), ('Organics Spinach', 0.5), ('Organic Zucchini', 0.5), ('Organic Small Bunch Celery', 0.5), ('Organic Ketchup', 0.5), ('Shredded Parmesan', 0.5), ('Organic Strawberries', 0.5), ('Original Veggie Straws', 0.5), ('Vitamin D3 1000 I.U.', 0.5), ('Four Cheese Pasta Sauce', 0.5), ('Deluxe Thick Apricot Fruit Spread', 0.5), ('Organic Kiwi', 0.5), ('Arnicare Pain Relief Arnica Gel', 0.5), ('Grape White/Green Seedless', 0.5), ('Organic Cucumber', 0.5), ('Peach Mango Salsa', 0.5), ('Colby Cheese Sticks', 0.5), ('Cage Free Large White Eggs', 0.5), ('Organic Yellow Zucchini', 0.5), ('Wildflower Honey', 0.5), ('Organic SprouTofu Royal Thai Baked Tofu', 0.5), ('Organic Sliced White Mushrooms', 0.5), ('Dressing, Jersey Sweet Onion, Calorie Free', 0.5), ('Organic Red Onion', 0.5), ('Roasted Garlic Pasta Sauce', 0.5), ('Banana', 1.0), ('High Heat Canola Spray Oil', 0.5), ('Organic Lacinato (Dinosaur) Kale', 0.5), ('Organic Italian Salad', 0.5), ('Reduced Fat Milk 100% Lactose Free', 0.5), ('Organic Sprouted Wheat Bagels', 0.5), ('Sourdough Bread', 1.0), ('Ezekiel 4:9 Sprouted Grain Tortillas', 0.5), ('Small Hass Avocado', 0.5), ('Baguettes Gluten Free Fresh Rosemary', 0.5), ('Oven Roasted Turkey', 1.0), ('Sparkling Blackberry Juice', 0.5), ('Large Lemon', 0.5), ('Organic Broccoli Crowns', 0.5), ('Organic Red Bell Pepper', 0.5), ('Nutritional Yeast Seasoning', 0.5), ('Organic Thompson Seedless Raisins', 0.5), ('Yellow Grape Tomatoes', 0.5), ('Cottage Cheese, Natural Small Curd, 4% Milkfat Min', 0.5), ('Organic Large Extra Fancy Fuji Apple', 0.5), ('Sparkling Peach', 0.5), ('Collard Greens', 0.5)]                                                                                                                                                                                                                                                                                                                                                                                                                                                                                                                                                                                                                                                                                                                                                                                                                                                                                                                                                                                                                                                                                                                                                                                                                                                                                                                                                                                                                                                                                                                                                                                                                                                                                                                                                                                                                                                                                                                                                                                                                                                                                                                                                                                                                                                                                                                                                                                                                                                                                                                                                                                                                                                                                                                                                                                          |\n",
      "|('1% Low Fat Milk', 'Cherrios Honey Nut')                                                                                                         |[('Vodka', 0.3333333333333333), ('Fettuccine Pasta', 0.3333333333333333), ('Pizza for One Original 4 Cheese Frozen Pizza', 0.3333333333333333), ('Rice Pilaf', 0.3333333333333333), ('Mixed Nuts', 0.3333333333333333), ('Regular Concentrated Bleach', 0.3333333333333333), ('Heavy Duty Scrub Sponges', 0.3333333333333333), ('Penne Pasta', 0.3333333333333333), ('String Cheese', 0.3333333333333333), ('Healthy Request Cream of Chicken Condensed Soup', 0.3333333333333333), ('Extra Crisp English Muffins', 0.3333333333333333), ('Large Burrito Flour Tortillas', 0.3333333333333333), ('Vanilla Wafers', 0.3333333333333333), ('La Lechera Sweetened Condensed Milk, Fat Free', 0.3333333333333333), ('Creamy Peanut Butter', 0.3333333333333333), ('Light New England Clam Chowder', 0.3333333333333333), ('Original Chocolate Chip Cookies', 0.3333333333333333), ('With Raspberry Lemonade', 0.3333333333333333), ('Cool MintÂ® Antiseptic Adult Mouthwash', 0.3333333333333333), ('Chicken in a Biskit Baked Snack Crackers', 0.3333333333333333), ('The Original Cream Bars Orange Raspberry Frozen Bars', 0.3333333333333333), ('Artisan Sausage Pineapple Uncured Bacon Hardwood Smoked with Vermont Maple Syrup', 0.3333333333333333), ('Spaghetti Pasta', 0.3333333333333333), ('Classic Bacon', 0.3333333333333333), ('Natural California Raisins Mini Snack Boxes', 0.3333333333333333), ('Sea Salt & Vinegar Potato Chips', 0.3333333333333333), ('Broccoli au Gratin', 0.3333333333333333), ('Seedless Red Grapes', 0.3333333333333333), ('Calcium Pulp Free Orange Juice', 0.3333333333333333), ('Original Kettle Cooked Potato Chips', 0.3333333333333333), ('Mixed Fruit Fruit Snacks', 0.3333333333333333), ('Golden Crinkles French Fried Potatoes', 0.3333333333333333), ('Triscuit Reduced Fat Crackers', 0.3333333333333333), ('Organic Caesar Complete Salad Kit', 0.3333333333333333), ('Original Baked Snack Crackers', 0.3333333333333333), ('Mini Watermelon', 0.3333333333333333), ('Chicken Broth', 0.3333333333333333), ('Flour Tortillas Soft Taco', 0.3333333333333333), ('Yellow Onions', 0.3333333333333333), ('Brown Sugar Cinnamon Roll Wafflers', 0.3333333333333333), ('Honey Buns', 0.3333333333333333), ('Honey Maid Teddy Grahams', 0.3333333333333333), ('Wheat Thins Original', 0.3333333333333333), ('Cut-Rite Wax Paper', 0.3333333333333333), ('Classic Smoked Ham Steaks', 0.3333333333333333), ('Ritz Peanut Butter Cracker Sandwiches', 0.3333333333333333), ('Pickles Kosher Dills', 0.3333333333333333), ('Spanish Rice Rice Mix', 0.3333333333333333), ('Natural Applesauce Snack & Go Pouches', 0.3333333333333333), ('Light Sour Cream', 0.3333333333333333), ('Fresh CA Grown Eggs', 0.6666666666666666), ('Healthy Request Chunky Chicken Noodle Soup', 0.3333333333333333), ('Banana', 0.6666666666666666), ('Milano Milk Chocolate Cookies', 0.3333333333333333), ('Original Fresh Stack Crackers', 0.3333333333333333), ('Sandwich Bags', 0.3333333333333333), ('Eggo Cinnamon Toast Waffles', 0.3333333333333333), ('Sausage Biscuit', 0.3333333333333333), ('Traditional Favorites Tomato & Basil Pasta Sauce', 0.3333333333333333), ('Original Apple 100% Juice', 0.3333333333333333), ('Chocolate Cookies Single Serve', 0.3333333333333333), ('Cinnamon Graham Crackers', 0.3333333333333333), ('Mac & Cheese', 0.3333333333333333), ('White Onion', 0.3333333333333333), ('Original Cream Cheese', 0.3333333333333333), ('Goldfish Baked Snack Crackers Variety Pack', 0.3333333333333333), ('Living Herbs Potted Living Basil', 0.3333333333333333), ('Pitted Kalamata Olives', 0.3333333333333333), ('Chicken Breast Nuggets, Dinosaur Shaped', 0.3333333333333333), ('Cheese Tortellini', 0.3333333333333333), ('Diced Tomatoes with Mild Green Chilies', 0.3333333333333333), ('Roma Tomato', 0.3333333333333333), ('Fudge Brownie Mix', 0.3333333333333333), ('100% Juice', 0.3333333333333333), ('Ultra Soft Facial Tissues', 0.3333333333333333), ('Cereal', 0.3333333333333333), ('Soft & Smooth100% Whole Wheat Bread', 0.3333333333333333), ('Original Magic Eraser', 0.3333333333333333), ('Milano Orange Chocolate Cookies', 0.3333333333333333), ('Traditional Manhattan Clam Chowder Soup', 0.3333333333333333), ('Oreo Chocolate Sandwich Cookies', 0.3333333333333333), ('Ritz Cheese Cracker Sandwich Packs', 0.3333333333333333), ('Cracked Wheat Sourdough Loaf', 0.3333333333333333), ('Especial', 0.3333333333333333), ('Chicken Corn Chowder Soup', 0.3333333333333333), ('Traditional Chickarina Chicken Soup with Meatballs', 0.3333333333333333), ('Small Hass Avocado', 0.3333333333333333), ('The Pounder Pretzels olde Tyme', 0.3333333333333333), ('Brut', 0.3333333333333333), ('Oven Baked Cheddar & Sour Cream Potato Crisps', 0.3333333333333333), ('Cut Green Beans', 0.3333333333333333)]|\n",
      "|('Alkalized Water', 'Gluten Free Original Baguettes', 'Purified Alkalkine Water with Minerals pH10')                                              |[]                                                                                                                                                                                                                                                                                                                                                                                                                                                                                                                                                                                                                                                                                                                                                                                                                                                                                                                                                                                                                                                                                                                                                                                                                                                                                                                                                                                                                                                                                                                                                                                                                                                                                                                                                                                                                                                                                                                                                                                                                                                                                                                                                                                                                                                                                                                                                                                                                                                                                                                                                                                                                                                                                                                                                                                                                                                                                                                                                                                                                                                                                                                                                                                                                                                                                                                                                                                                                                                                                                                                                                                                                                                                                                                                                                                                                                                                                                                                                                                                                                                                                                                                                                                                                                                                                                                                                                                                                                                                                                                                                                                                                                                                                                                                                                                                                                                                                                    |\n",
      "|('Chicken & Maple Breakfast Sausage', 'Crispy Wheat, Crackers', 'Diet Ginger Ale All Natural Soda')                                               |[]                                                                                                                                                                                                                                                                                                                                                                                                                                                                                                                                                                                                                                                                                                                                                                                                                                                                                                                                                                                                                                                                                                                                                                                                                                                                                                                                                                                                                                                                                                                                                                                                                                                                                                                                                                                                                                                                                                                                                                                                                                                                                                                                                                                                                                                                                                                                                                                                                                                                                                                                                                                                                                                                                                                                                                                                                                                                                                                                                                                                                                                                                                                                                                                                                                                                                                                                                                                                                                                                                                                                                                                                                                                                                                                                                                                                                                                                                                                                                                                                                                                                                                                                                                                                                                                                                                                                                                                                                                                                                                                                                                                                                                                                                                                                                                                                                                                                                                    |\n",
      "|('Organic Baby Arugula', 'Prepared Meals Beef & Chicken Medley Dog Food', 'Steamfresh Selects Frozen Long Grain White Rice with Mixed Vegetables')|[]                                                                                                                                                                                                                                                                                                                                                                                                                                                                                                                                                                                                                                                                                                                                                                                                                                                                                                                                                                                                                                                                                                                                                                                                                                                                                                                                                                                                                                                                                                                                                                                                                                                                                                                                                                                                                                                                                                                                                                                                                                                                                                                                                                                                                                                                                                                                                                                                                                                                                                                                                                                                                                                                                                                                                                                                                                                                                                                                                                                                                                                                                                                                                                                                                                                                                                                                                                                                                                                                                                                                                                                                                                                                                                                                                                                                                                                                                                                                                                                                                                                                                                                                                                                                                                                                                                                                                                                                                                                                                                                                                                                                                                                                                                                                                                                                                                                                                                    |\n",
      "|('Nuts & Spices, Dark Chocolate Mocha Almond', 'Organic Italian Salad', 'Organic Spring Mix Salad')                                               |[]                                                                                                                                                                                                                                                                                                                                                                                                                                                                                                                                                                                                                                                                                                                                                                                                                                                                                                                                                                                                                                                                                                                                                                                                                                                                                                                                                                                                                                                                                                                                                                                                                                                                                                                                                                                                                                                                                                                                                                                                                                                                                                                                                                                                                                                                                                                                                                                                                                                                                                                                                                                                                                                                                                                                                                                                                                                                                                                                                                                                                                                                                                                                                                                                                                                                                                                                                                                                                                                                                                                                                                                                                                                                                                                                                                                                                                                                                                                                                                                                                                                                                                                                                                                                                                                                                                                                                                                                                                                                                                                                                                                                                                                                                                                                                                                                                                                                                                    |\n",
      "|('Classic Almond Butter All Natural', 'Epsom Salt', 'Gluten Free Blueberry Waffles')                                                              |[]                                                                                                                                                                                                                                                                                                                                                                                                                                                                                                                                                                                                                                                                                                                                                                                                                                                                                                                                                                                                                                                                                                                                                                                                                                                                                                                                                                                                                                                                                                                                                                                                                                                                                                                                                                                                                                                                                                                                                                                                                                                                                                                                                                                                                                                                                                                                                                                                                                                                                                                                                                                                                                                                                                                                                                                                                                                                                                                                                                                                                                                                                                                                                                                                                                                                                                                                                                                                                                                                                                                                                                                                                                                                                                                                                                                                                                                                                                                                                                                                                                                                                                                                                                                                                                                                                                                                                                                                                                                                                                                                                                                                                                                                                                                                                                                                                                                                                                    |\n",
      "|('Diced Peaches in 100% Fruit Juice', 'Large Grade AA Eggs', 'Vodka')                                                                             |[]                                                                                                                                                                                                                                                                                                                                                                                                                                                                                                                                                                                                                                                                                                                                                                                                                                                                                                                                                                                                                                                                                                                                                                                                                                                                                                                                                                                                                                                                                                                                                                                                                                                                                                                                                                                                                                                                                                                                                                                                                                                                                                                                                                                                                                                                                                                                                                                                                                                                                                                                                                                                                                                                                                                                                                                                                                                                                                                                                                                                                                                                                                                                                                                                                                                                                                                                                                                                                                                                                                                                                                                                                                                                                                                                                                                                                                                                                                                                                                                                                                                                                                                                                                                                                                                                                                                                                                                                                                                                                                                                                                                                                                                                                                                                                                                                                                                                                                    |\n",
      "|('2-Ply 100% Recycled White Facial Tissues', 'Organic Hothouse Cucumbers', 'Red Machine Juice Smoothie')                                          |[]                                                                                                                                                                                                                                                                                                                                                                                                                                                                                                                                                                                                                                                                                                                                                                                                                                                                                                                                                                                                                                                                                                                                                                                                                                                                                                                                                                                                                                                                                                                                                                                                                                                                                                                                                                                                                                                                                                                                                                                                                                                                                                                                                                                                                                                                                                                                                                                                                                                                                                                                                                                                                                                                                                                                                                                                                                                                                                                                                                                                                                                                                                                                                                                                                                                                                                                                                                                                                                                                                                                                                                                                                                                                                                                                                                                                                                                                                                                                                                                                                                                                                                                                                                                                                                                                                                                                                                                                                                                                                                                                                                                                                                                                                                                                                                                                                                                                                                    |\n",
      "|('Honey Wheat Rolls', 'Total 2% All Natural Greek Strained Yogurt with Honey', 'Vanilla, Chocolate, Strawberry Ice Cream')                        |[]                                                                                                                                                                                                                                                                                                                                                                                                                                                                                                                                                                                                                                                                                                                                                                                                                                                                                                                                                                                                                                                                                                                                                                                                                                                                                                                                                                                                                                                                                                                                                                                                                                                                                                                                                                                                                                                                                                                                                                                                                                                                                                                                                                                                                                                                                                                                                                                                                                                                                                                                                                                                                                                                                                                                                                                                                                                                                                                                                                                                                                                                                                                                                                                                                                                                                                                                                                                                                                                                                                                                                                                                                                                                                                                                                                                                                                                                                                                                                                                                                                                                                                                                                                                                                                                                                                                                                                                                                                                                                                                                                                                                                                                                                                                                                                                                                                                                                                    |\n",
      "|('Premium Super Sweet Corn Bi-Color', 'Sparkling Water Grapefruit')                                                                               |[('Cilantro Lime Chicken Burrito', 1.0), ('Caffe Mocha Iced Coffee', 1.0), ('Honeycrisp Apples', 1.0), ('Organic Sticks Low Moisture Part Skim Mozzarella String Cheese', 1.0), ('100 Calorie Pretzels Packs', 1.0), ('Chicken & Maple Breakfast Sausage', 1.0), ('Organic Green Peas', 1.0), ('Cantaloupes', 1.0), ('Hint of Lime Flavored Tortilla Chips', 1.0), ('Fudge Bar', 1.0), ('Broccoli  Bunch', 1.0), ('Sliced Mushrooms', 1.0), ('Unsweetened Almondmilk', 1.0), ('Farmhouse Hearty White Bread', 1.0), ('Andouille', 1.0), ('Chicken Drumsticks', 1.0), ('Simply Clean Fragrance Free Wipes', 1.0), ('Grapes Green Seedless', 1.0), ('Yukon Gold Potato', 1.0), ('Bananas', 1.0), ('Original Diaper Rash Ointment & Skin Protectant', 1.0), ('Hamburger Buns', 1.0), ('Lemon', 1.0), ('Chocolate Brownie Energy Bar', 1.0), ('Avocado', 1.0), ('2% Reduced Fat Milk', 1.0), ('American Cheese Slices', 1.0)]                                                                                                                                                                                                                                                                                                                                                                                                                                                                                                                                                                                                                                                                                                                                                                                                                                                                                                                                                                                                                                                                                                                                                                                                                                                                                                                                                                                                                                                                                                                                                                                                                                                                                                                                                                                                                                                                                                                                                                                                                                                                                                                                                                                                                                                                                                                                                                                                                                                                                                                                                                                                                                                                                                                                                                                                                                                                                                                                                                                                                                                                                                                                                                                                                                                                                                                                                                                                                                                                                                                                                                                                                                                                                                                                                                                                                                                                                                                                                                             |\n",
      "|('Nilla Wafers', 'Tortilla Triangles Restaurant Style Chips', 'Velveeta Reduced Fat 2% Milk Shells Cheese')                                       |[]                                                                                                                                                                                                                                                                                                                                                                                                                                                                                                                                                                                                                                                                                                                                                                                                                                                                                                                                                                                                                                                                                                                                                                                                                                                                                                                                                                                                                                                                                                                                                                                                                                                                                                                                                                                                                                                                                                                                                                                                                                                                                                                                                                                                                                                                                                                                                                                                                                                                                                                                                                                                                                                                                                                                                                                                                                                                                                                                                                                                                                                                                                                                                                                                                                                                                                                                                                                                                                                                                                                                                                                                                                                                                                                                                                                                                                                                                                                                                                                                                                                                                                                                                                                                                                                                                                                                                                                                                                                                                                                                                                                                                                                                                                                                                                                                                                                                                                    |\n",
      "+--------------------------------------------------------------------------------------------------------------------------------------------------+------------------------------------------------------------------------------------------------------------------------------------------------------------------------------------------------------------------------------------------------------------------------------------------------------------------------------------------------------------------------------------------------------------------------------------------------------------------------------------------------------------------------------------------------------------------------------------------------------------------------------------------------------------------------------------------------------------------------------------------------------------------------------------------------------------------------------------------------------------------------------------------------------------------------------------------------------------------------------------------------------------------------------------------------------------------------------------------------------------------------------------------------------------------------------------------------------------------------------------------------------------------------------------------------------------------------------------------------------------------------------------------------------------------------------------------------------------------------------------------------------------------------------------------------------------------------------------------------------------------------------------------------------------------------------------------------------------------------------------------------------------------------------------------------------------------------------------------------------------------------------------------------------------------------------------------------------------------------------------------------------------------------------------------------------------------------------------------------------------------------------------------------------------------------------------------------------------------------------------------------------------------------------------------------------------------------------------------------------------------------------------------------------------------------------------------------------------------------------------------------------------------------------------------------------------------------------------------------------------------------------------------------------------------------------------------------------------------------------------------------------------------------------------------------------------------------------------------------------------------------------------------------------------------------------------------------------------------------------------------------------------------------------------------------------------------------------------------------------------------------------------------------------------------------------------------------------------------------------------------------------------------------------------------------------------------------------------------------------------------------------------------------------------------------------------------------------------------------------------------------------------------------------------------------------------------------------------------------------------------------------------------------------------------------------------------------------------------------------------------------------------------------------------------------------------------------------------------------------------------------------------------------------------------------------------------------------------------------------------------------------------------------------------------------------------------------------------------------------------------------------------------------------------------------------------------------------------------------------------------------------------------------------------------------------------------------------------------------------------------------------------------------------------------------------------------------------------------------------------------------------------------------------------------------------------------------------------------------------------------------------------------------------------------------------------------------------------------------------------------------------------------------------------------------------------------------------------------------------------------------------------------------------+\n",
      "only showing top 20 rows\n",
      "\n",
      "Total time: 1153.5191657543182 seconds"
     ]
    }
   ],
   "source": [
    "\n",
    "\"\"\"\n",
    "TODO: run the MBA algorithm and show the first 5 association rules\n",
    "\"\"\"\n",
    "start = time()\n",
    "\n",
    "patterns_rdd = orders_rdd.flatMap(map_to_patterns_from_list)\n",
    "\n",
    "combined_patterns_rdd =patterns_rdd.reduceByKey(add)\n",
    "subpatterns_rdd = combined_patterns_rdd.flatMap(map_to_subpatterns)\n",
    "combined_rules = subpatterns_rdd.map(lambda row: (row.combined_rules, [ row.subpatterns ])).reduceByKey(add)\n",
    "assoc_rules = combined_rules.flatMap(map_to_assoc_rules)\n",
    "\n",
    "assoc_rules.map(format_tuples).toDF(['patterns', 'association_rules']).show(truncate=False)\n",
    "print(f\"Total time: {time() - start} seconds\")\n"
   ]
  },
  {
   "cell_type": "markdown",
   "metadata": {
    "id": "5DkNPEtGMa0l"
   },
   "source": [
    "# 3.3 MBA pour le dataset complet (15 points)\n",
    "\n",
    "Comme vous l'avez probablement remarqué, même pour un ensemble de données moins volumineux (le training dataset ne contient que 131 000 commandes), l'algorithme MBA est coûteux en calcul. Pour cette raison, cette fois, nous allons répéter le processus, mais en utilisant maintenant Amazon Web Services (AWS) pour créer un grand cluster. Toutes les instructions pour créer un cluster avec spark et comment soumettre un travail seront expliquées dans le laboratoire. Dans tous les cas, vous devez lire les instructions données dans le ``Instruction_AWS.pdf``.\n",
    "\n",
    "Cette fois, nous travaillerons avec le fichier ``order_products__prior.csv``, qui contient plus de 3M commandes.\n",
    "\n",
    "**PRODUCTION ATTENDUE**\n",
    "\n",
    "Après avoir exécuté le MBA pour la plus grande collection de commandes, sélectionnez au hasard UN produit acheté dans ``order_products__prior`` et affichez les règles d'association (nom du produit et valeur d'association) de ce produit, c'est-à-dire lorsque le produit est seul dans le panier. La sortie doit être formatée dans un tableau, où chaque ligne contenant les informations d'un produit associé. \n",
    "\n",
    "- Affichez l'ID et le nom du produit sélectionné au hasard.\n",
    "- Signaler le temps d'exécution."
   ]
  },
  {
   "cell_type": "code",
   "execution_count": 18,
   "metadata": {
    "id": "X1cVWxraMa0l"
   },
   "outputs": [
    {
     "data": {
      "application/vnd.jupyter.widget-view+json": {
       "model_id": "",
       "version_major": 2,
       "version_minor": 0
      },
      "text/plain": [
       "FloatProgress(value=0.0, bar_style='info', description='Progress:', layout=Layout(height='25px', width='50%'),…"
      ]
     },
     "metadata": {},
     "output_type": "display_data"
    },
    {
     "name": "stdout",
     "output_type": "stream",
     "text": [
      "s3://fouillededonnee/order_products__train.csv\n",
      "+--------+----------+-----------------+---------+\n",
      "|order_id|product_id|add_to_cart_order|reordered|\n",
      "+--------+----------+-----------------+---------+\n",
      "|       2|     33120|                1|        1|\n",
      "|       2|     28985|                2|        1|\n",
      "|       2|      9327|                3|        0|\n",
      "|       2|     45918|                4|        1|\n",
      "|       2|     30035|                5|        0|\n",
      "+--------+----------+-----------------+---------+\n",
      "only showing top 5 rows\n",
      "\n",
      "orders.csv\n",
      "+--------+-------+--------+------------+---------+-----------------+----------------------+\n",
      "|order_id|user_id|eval_set|order_number|order_dow|order_hour_of_day|days_since_prior_order|\n",
      "+--------+-------+--------+------------+---------+-----------------+----------------------+\n",
      "| 2539329|      1|   prior|           1|        2|                8|                  null|\n",
      "| 2398795|      1|   prior|           2|        3|                7|                  15.0|\n",
      "|  473747|      1|   prior|           3|        3|               12|                  21.0|\n",
      "| 2254736|      1|   prior|           4|        4|                7|                  29.0|\n",
      "|  431534|      1|   prior|           5|        4|               15|                  28.0|\n",
      "+--------+-------+--------+------------+---------+-----------------+----------------------+\n",
      "only showing top 5 rows\n",
      "\n",
      "products.csv\n",
      "+----------+--------------------+--------+-------------+\n",
      "|product_id|        product_name|aisle_id|department_id|\n",
      "+----------+--------------------+--------+-------------+\n",
      "|         1|Chocolate Sandwic...|      61|           19|\n",
      "|         2|    All-Seasons Salt|     104|           13|\n",
      "|         3|Robust Golden Uns...|      94|            7|\n",
      "|         4|Smart Ones Classi...|      38|            1|\n",
      "|         5|Green Chile Anyti...|       5|           13|\n",
      "+----------+--------------------+--------+-------------+\n",
      "only showing top 5 rows\n",
      "\n",
      "Total time: 22.839231729507446 seconds"
     ]
    }
   ],
   "source": [
    "start = time()\n",
    "\n",
    "\"\"\"\n",
    "TODO: create a query to create and sctruct the transactions from the order_products__prior.csv file\n",
    "\"\"\"\n",
    "df_order_prod = spark.read.option('encoding', 'ISO-8859-1').csv('s3://fouillededonnee/instacart/order_products__prior.csv', header=True, sep=',', inferSchema=True)\n",
    "print('s3://fouillededonnee/order_products__train.csv')\n",
    "df_order_prod.show(5)\n",
    "\n",
    "df_orders = spark.read.option('encoding', 'ISO-8859-1').csv('s3://fouillededonnee/instacart/orders.csv', header=True, sep=',', inferSchema=True)\n",
    "print('orders.csv')\n",
    "df_orders.show(5)\n",
    "\n",
    "df_products = spark.read.option('encoding', 'ISO-8859-1').csv('s3://fouillededonnee/instacart/products.csv', header=True, sep=',', inferSchema=True)\n",
    "print('products.csv')\n",
    "df_products.show(5)\n",
    "\n",
    "\n",
    "orders_rdd =spark.sql(\n",
    "    'SELECT op.order_id, COLLECT_LIST(p.product_name) AS transaction '\n",
    "    'FROM order_prod op '\n",
    "    'INNER JOIN products p ON op.product_id == p.product_id '\n",
    "    'GROUP BY op.order_id'\n",
    ").rdd\n",
    "\n",
    "print(f\"Total time: {time() - start} seconds\")"
   ]
  },
  {
   "cell_type": "code",
   "execution_count": 21,
   "metadata": {
    "id": "MVBQ12b2Ma0o"
   },
   "outputs": [
    {
     "data": {
      "application/vnd.jupyter.widget-view+json": {
       "model_id": "",
       "version_major": 2,
       "version_minor": 0
      },
      "text/plain": [
       "FloatProgress(value=0.0, bar_style='info', description='Progress:', layout=Layout(height='25px', width='50%'),…"
      ]
     },
     "metadata": {},
     "output_type": "display_data"
    },
    {
     "name": "stdout",
     "output_type": "stream",
     "text": [
      "[Row(association_rules=('Organic Apple Raisin & Quinoa Stage 2 Baby Food', 'Uncured Genoa Salami'), patterns=[('Baby Food Stage 2 Pumpkin Banana', 1.0), ('Organic Fiber & Protein Pear Blueberry & Spinach Baby Food', 1.0), ('Green Machine Juice Smoothie', 1.0), ('Banana', 1.0), ('Roasted Turkey Breast', 1.0), ('Cafe Latte Pure Lightly Sweetened Iced Coffee With Almond Milk', 1.0), ('Coffee Chocolate Bar', 1.0), ('Vanilla Pure Almond Milk', 1.0), ('Protein Bar Maple Sea Salt', 1.0), ('Large Yellow Flesh Nectarine', 1.0), ('Organic Strawberries', 1.0), ('Broccoli & Apple Stage 2 Baby Food', 1.0), ('Sunny Days Strawberry Snack Bars', 1.0), ('Honeycrisp Apple', 1.0), ('Sea Salt Caramel Ice Cream', 1.0), ('Grade A Large Eggs Cage Free Omega 3', 1.0), ('Bartlett Pears', 1.0), ('Organic Red Bell Pepper', 1.0), ('Organic Avocado', 1.0), ('Real Aged Cheddar Macaroni & Cheese', 1.0), ('Chocolate Sea Salt', 1.0), ('Mild Cheddar Cheese Sticks', 1.0), ('Peach,  Apricot & Banana Stage 2 Baby Food', 1.0), ('Real Sweet Potato Vegetable Chips', 1.0), ('Peanut Butter Egg White Protein Bar', 1.0), ('Watermelon Chunks', 1.0), ('Baby Food Stage 2 Blueberry Pear & Purple Carrot', 1.0), ('Roma Tomato', 1.0), ('Pear Kiwi & Kale Baby Food', 1.0), ('Stage 1 Apples Sweet Potatoes Pumpkin & Blueberries Organic Pureed Baby Food', 1.0), ('Prosciutto', 1.0), ('Original Veggie Straws', 1.0), ('Orange Bell Pepper', 1.0), ('Birthday Cake Light Ice Cream', 1.0), ('Organic Cinnamon Graham Crackers', 1.0), ('Organic Peeled Whole Baby Carrots', 1.0), ('Mediterranean Vegetable Chips', 1.0), ('Organic 4 Months Butternut Squash Carrots Apples + Prunes Baby Food', 1.0), ('Organic Yellow Onion', 1.0)])]\n",
      "Total time: 1062.6577332019806 seconds"
     ]
    }
   ],
   "source": [
    "start = time()\n",
    "\n",
    "\"\"\"\n",
    "TODO: run the MBA algorithm and print the requested output\n",
    "\"\"\"\n",
    "combined_patterns_rdd =patterns_rdd.reduceByKey(add)\n",
    "subpatterns_rdd = combined_patterns_rdd.flatMap(map_to_subpatterns)\n",
    "combined_rules = subpatterns_rdd.map(lambda row: (row.combined_rules, [ row.subpatterns ])).reduceByKey(add)\n",
    "assoc_rules = combined_rules.flatMap(map_to_assoc_rules)\n",
    "print(assoc_rules.take(1))\n",
    "print(f\"Total time: {time() - start} seconds\")"
   ]
  },
  {
   "cell_type": "markdown",
   "metadata": {},
   "source": [
    "# 3.4 Bonus - Empreinte carbone (1 point)\n",
    "\n",
    "De nos jours, en apprentissage automatique, et en particulier pour le traitement du langage naturel (NLP), il est courant d'entraîner de grands réseaux de neurones sur des ensembles de données massifs. Par exemple, il faut 78 ans pour entraîner le modèle GPT-3, un réseau de neurones de pointe en NLP avec 175 milliards de paramètres, en utilisant un seul GPU V100 \\([Wolff Anthony et al, 2020](https://arxiv.org/pdf/2007.03051.pdf)\\). L'émission de CO2 pour entraîner ce modèle équivaut à conduire une voiture au Canada sur environ 550 000 km ! Étant donné que ces environnements à forte intensité énergétique sont devenus populaires et se sont développés ces dernières années, l'apprentissage automatique (ML) pourrait commencer à devenir un acteur important du changement climatique.\n",
    " \n",
    "Il est maintenant temps de mesurer les émissions de carbone générées dans ce TP sur la base de [Strubell et al 2019](https://arxiv.org/pdf/1906.02243.pdf). Nous supposons que les machines sont situées aux États-Unis et que les deux processeurs (2,3 GHz Intel Xeon® E5-2686 v4) et la DRAM (8 GB) consomment en moyenne 243 watts par heure.\n",
    "\n",
    "\n",
    "**Vous devez exécuter la cellule ci-dessous avec le nombre d'heures passées dans AWS pour recevoir le point.**\n"
   ]
  },
  {
   "cell_type": "code",
   "execution_count": 21,
   "metadata": {},
   "outputs": [
    {
     "data": {
      "text/html": [
       "\n",
       "        <h4>In this TP, you generated 10.988362799999999 CO2e (lbs) which is equivalent to:  </h4>\n",
       "        </br>\n",
       "        <div>\n",
       "            <ul>\n",
       "              <li> 1.66 servings of beef 🐄 (4 oz. meat per serving)</li>\n",
       "              <li> 3.71 km  of driving a car 🚗 in Canada</li>\n",
       "            </ul> \n",
       "        </div>\n",
       "    "
      ],
      "text/plain": [
       "<IPython.core.display.HTML object>"
      ]
     },
     "metadata": {},
     "output_type": "display_data"
    }
   ],
   "source": [
    "from IPython.core.display import display, HTML\n",
    "\n",
    "def compute_co2_emission(x):\n",
    "    \"\"\"\n",
    "    x = number of hours\n",
    "    \"\"\"\n",
    "    kwh = (243.0 * x)/1000\n",
    "    #\n",
    "    co2lbs = 0.954 * (1.58 * kwh)\n",
    "    \n",
    "    display(HTML(f\"\"\"\n",
    "        <h4>In this TP, you generated {co2lbs} CO2e (lbs) which is equivalent to:  </h4>\n",
    "        </br>\n",
    "        <div>\n",
    "            <ul>\n",
    "              <li> {round(co2lbs/6.61,2)} servings of beef 🐄 (4 oz. meat per serving)</li>\n",
    "              <li> {round(co2lbs * 0.337307,2)} km  of driving a car 🚗 in Canada</li>\n",
    "            </ul> \n",
    "        </div>\n",
    "    \"\"\"))\n",
    "\n",
    "    \n",
    "hours = 30\n",
    "compute_co2_emission(hours)"
   ]
  },
  {
   "cell_type": "code",
   "execution_count": null,
   "metadata": {},
   "outputs": [],
   "source": []
  },
  {
   "cell_type": "code",
   "execution_count": null,
   "metadata": {},
   "outputs": [],
   "source": []
  },
  {
   "cell_type": "code",
   "execution_count": null,
   "metadata": {},
   "outputs": [],
   "source": []
  }
 ],
 "metadata": {
  "colab": {
   "collapsed_sections": [],
   "name": "tp2.ipynb",
   "provenance": []
  },
  "kernelspec": {
   "display_name": "Python 3",
   "language": "python",
   "name": "python3"
  },
  "language_info": {
   "codemirror_mode": {
    "name": "ipython",
    "version": 3
   },
   "file_extension": ".py",
   "mimetype": "text/x-python",
   "name": "python",
   "nbconvert_exporter": "python",
   "pygments_lexer": "ipython3",
   "version": "3.7.4"
  }
 },
 "nbformat": 4,
 "nbformat_minor": 4
}
